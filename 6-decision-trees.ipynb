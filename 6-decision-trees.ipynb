{
  "cells": [
    {
      "cell_type": "markdown",
      "source": [
        "# Task 1\n",
        "\n",
        "In this exercise, you are asked to build a classifier on a set of data obtained by the National Institute of Diabetes, Digestive and Kidney Diseases (National Institute of Diabetes and Digestive and Kidney Diseases). The goal is to answer the question: does a patient have diabetes based on certain diagnostic measurements included in the dataset, which is obtained from the original database by imposing several restrictions. In particular, in the data considered in the task, all patients are women of at least 21 years of Indian Pima origin.\n",
        "\n",
        "В этом упражнении вам предлагается построить классификатор на наборе данных, полученных Национальным институтом диабета, болезней органов пищеварения и почек (National Institute of Diabetes and Digestive and Kidney Diseases). Цель состоит в том, чтобы ответить на вопрос: есть ли у пациента диабет, основываясь на определенных диагностических измерениях, включенных в набор данных, который получен из исходной базы данных наложением нескольких ограничений. В частности, в рассматриваемых в задании данных, все пациенты — женщины не менее 21 года индийского происхождения Пима."
      ],
      "metadata": {
        "id": "XYjNb0nGh8rA"
      }
    },
    {
      "cell_type": "code",
      "execution_count": 1,
      "metadata": {
        "id": "OC_f53zbrsQp"
      },
      "outputs": [],
      "source": [
        "import pandas as pd\n",
        "import matplotlib\n",
        "import numpy as np\n",
        "import matplotlib.pyplot as plt\n",
        "%matplotlib inline "
      ]
    },
    {
      "cell_type": "code",
      "source": [
        "import os\n",
        "\n",
        "def load_data(data_dir, link):\n",
        "  if not (os.path.exists(data_dir)):\n",
        "    print('========= Downloading data ... =========')\n",
        "    os.system('wget ' + link + ' -O ' + data_dir + '.zip')\n",
        "    os.system('unzip ' + data_dir + '.zip' + ' -d ' + data_dir)\n",
        "    os.system('rm -rf ' + data_dir + '/__MACOSX')\n",
        "    os.system('rm ' + data_dir + '.zip')\n",
        "    print('=========       Success        =========')\n",
        "  else:\n",
        "    print('========= Data is already dowloaded =========')"
      ],
      "metadata": {
        "id": "iC-ujfMGf9O_"
      },
      "execution_count": 2,
      "outputs": []
    },
    {
      "cell_type": "code",
      "source": [
        "data_dir1 = '/content/data'\n",
        "link1 = 'https://github.com/Mark1708/ml-and-ds-online-course/raw/main/data/decision-trees-\\(tpr\\)/diabetes.csv.zip'\n",
        "load_data(data_dir1, link1)"
      ],
      "metadata": {
        "colab": {
          "base_uri": "https://localhost:8080/"
        },
        "id": "DUmKMyU4f__D",
        "outputId": "440863da-9dad-4e8e-eb10-7db703931a41"
      },
      "execution_count": 3,
      "outputs": [
        {
          "output_type": "stream",
          "name": "stdout",
          "text": [
            "========= Data is already dowloaded =========\n"
          ]
        }
      ]
    },
    {
      "cell_type": "code",
      "execution_count": 4,
      "metadata": {
        "id": "jxZLk9R7rsQt"
      },
      "outputs": [],
      "source": [
        "df = pd.read_csv(data_dir1 + '/diabetes.csv') "
      ]
    },
    {
      "cell_type": "code",
      "execution_count": 5,
      "metadata": {
        "colab": {
          "base_uri": "https://localhost:8080/",
          "height": 206
        },
        "id": "WBqs9FQ_rsQu",
        "outputId": "55d7dfa1-af83-4a3d-f02c-8551f6ac9890"
      },
      "outputs": [
        {
          "output_type": "execute_result",
          "data": {
            "text/plain": [
              "   Pregnancies  Glucose  BloodPressure  SkinThickness  Insulin   BMI  \\\n",
              "0            6      148             72             35        0  33.6   \n",
              "1            1       85             66             29        0  26.6   \n",
              "2            8      183             64              0        0  23.3   \n",
              "3            1       89             66             23       94  28.1   \n",
              "4            0      137             40             35      168  43.1   \n",
              "\n",
              "   DiabetesPedigreeFunction  Age  Outcome  \n",
              "0                     0.627   50        1  \n",
              "1                     0.351   31        0  \n",
              "2                     0.672   32        1  \n",
              "3                     0.167   21        0  \n",
              "4                     2.288   33        1  "
            ],
            "text/html": [
              "\n",
              "  <div id=\"df-02e4e30b-676d-4956-a626-fc3dab8f66f4\">\n",
              "    <div class=\"colab-df-container\">\n",
              "      <div>\n",
              "<style scoped>\n",
              "    .dataframe tbody tr th:only-of-type {\n",
              "        vertical-align: middle;\n",
              "    }\n",
              "\n",
              "    .dataframe tbody tr th {\n",
              "        vertical-align: top;\n",
              "    }\n",
              "\n",
              "    .dataframe thead th {\n",
              "        text-align: right;\n",
              "    }\n",
              "</style>\n",
              "<table border=\"1\" class=\"dataframe\">\n",
              "  <thead>\n",
              "    <tr style=\"text-align: right;\">\n",
              "      <th></th>\n",
              "      <th>Pregnancies</th>\n",
              "      <th>Glucose</th>\n",
              "      <th>BloodPressure</th>\n",
              "      <th>SkinThickness</th>\n",
              "      <th>Insulin</th>\n",
              "      <th>BMI</th>\n",
              "      <th>DiabetesPedigreeFunction</th>\n",
              "      <th>Age</th>\n",
              "      <th>Outcome</th>\n",
              "    </tr>\n",
              "  </thead>\n",
              "  <tbody>\n",
              "    <tr>\n",
              "      <th>0</th>\n",
              "      <td>6</td>\n",
              "      <td>148</td>\n",
              "      <td>72</td>\n",
              "      <td>35</td>\n",
              "      <td>0</td>\n",
              "      <td>33.6</td>\n",
              "      <td>0.627</td>\n",
              "      <td>50</td>\n",
              "      <td>1</td>\n",
              "    </tr>\n",
              "    <tr>\n",
              "      <th>1</th>\n",
              "      <td>1</td>\n",
              "      <td>85</td>\n",
              "      <td>66</td>\n",
              "      <td>29</td>\n",
              "      <td>0</td>\n",
              "      <td>26.6</td>\n",
              "      <td>0.351</td>\n",
              "      <td>31</td>\n",
              "      <td>0</td>\n",
              "    </tr>\n",
              "    <tr>\n",
              "      <th>2</th>\n",
              "      <td>8</td>\n",
              "      <td>183</td>\n",
              "      <td>64</td>\n",
              "      <td>0</td>\n",
              "      <td>0</td>\n",
              "      <td>23.3</td>\n",
              "      <td>0.672</td>\n",
              "      <td>32</td>\n",
              "      <td>1</td>\n",
              "    </tr>\n",
              "    <tr>\n",
              "      <th>3</th>\n",
              "      <td>1</td>\n",
              "      <td>89</td>\n",
              "      <td>66</td>\n",
              "      <td>23</td>\n",
              "      <td>94</td>\n",
              "      <td>28.1</td>\n",
              "      <td>0.167</td>\n",
              "      <td>21</td>\n",
              "      <td>0</td>\n",
              "    </tr>\n",
              "    <tr>\n",
              "      <th>4</th>\n",
              "      <td>0</td>\n",
              "      <td>137</td>\n",
              "      <td>40</td>\n",
              "      <td>35</td>\n",
              "      <td>168</td>\n",
              "      <td>43.1</td>\n",
              "      <td>2.288</td>\n",
              "      <td>33</td>\n",
              "      <td>1</td>\n",
              "    </tr>\n",
              "  </tbody>\n",
              "</table>\n",
              "</div>\n",
              "      <button class=\"colab-df-convert\" onclick=\"convertToInteractive('df-02e4e30b-676d-4956-a626-fc3dab8f66f4')\"\n",
              "              title=\"Convert this dataframe to an interactive table.\"\n",
              "              style=\"display:none;\">\n",
              "        \n",
              "  <svg xmlns=\"http://www.w3.org/2000/svg\" height=\"24px\"viewBox=\"0 0 24 24\"\n",
              "       width=\"24px\">\n",
              "    <path d=\"M0 0h24v24H0V0z\" fill=\"none\"/>\n",
              "    <path d=\"M18.56 5.44l.94 2.06.94-2.06 2.06-.94-2.06-.94-.94-2.06-.94 2.06-2.06.94zm-11 1L8.5 8.5l.94-2.06 2.06-.94-2.06-.94L8.5 2.5l-.94 2.06-2.06.94zm10 10l.94 2.06.94-2.06 2.06-.94-2.06-.94-.94-2.06-.94 2.06-2.06.94z\"/><path d=\"M17.41 7.96l-1.37-1.37c-.4-.4-.92-.59-1.43-.59-.52 0-1.04.2-1.43.59L10.3 9.45l-7.72 7.72c-.78.78-.78 2.05 0 2.83L4 21.41c.39.39.9.59 1.41.59.51 0 1.02-.2 1.41-.59l7.78-7.78 2.81-2.81c.8-.78.8-2.07 0-2.86zM5.41 20L4 18.59l7.72-7.72 1.47 1.35L5.41 20z\"/>\n",
              "  </svg>\n",
              "      </button>\n",
              "      \n",
              "  <style>\n",
              "    .colab-df-container {\n",
              "      display:flex;\n",
              "      flex-wrap:wrap;\n",
              "      gap: 12px;\n",
              "    }\n",
              "\n",
              "    .colab-df-convert {\n",
              "      background-color: #E8F0FE;\n",
              "      border: none;\n",
              "      border-radius: 50%;\n",
              "      cursor: pointer;\n",
              "      display: none;\n",
              "      fill: #1967D2;\n",
              "      height: 32px;\n",
              "      padding: 0 0 0 0;\n",
              "      width: 32px;\n",
              "    }\n",
              "\n",
              "    .colab-df-convert:hover {\n",
              "      background-color: #E2EBFA;\n",
              "      box-shadow: 0px 1px 2px rgba(60, 64, 67, 0.3), 0px 1px 3px 1px rgba(60, 64, 67, 0.15);\n",
              "      fill: #174EA6;\n",
              "    }\n",
              "\n",
              "    [theme=dark] .colab-df-convert {\n",
              "      background-color: #3B4455;\n",
              "      fill: #D2E3FC;\n",
              "    }\n",
              "\n",
              "    [theme=dark] .colab-df-convert:hover {\n",
              "      background-color: #434B5C;\n",
              "      box-shadow: 0px 1px 3px 1px rgba(0, 0, 0, 0.15);\n",
              "      filter: drop-shadow(0px 1px 2px rgba(0, 0, 0, 0.3));\n",
              "      fill: #FFFFFF;\n",
              "    }\n",
              "  </style>\n",
              "\n",
              "      <script>\n",
              "        const buttonEl =\n",
              "          document.querySelector('#df-02e4e30b-676d-4956-a626-fc3dab8f66f4 button.colab-df-convert');\n",
              "        buttonEl.style.display =\n",
              "          google.colab.kernel.accessAllowed ? 'block' : 'none';\n",
              "\n",
              "        async function convertToInteractive(key) {\n",
              "          const element = document.querySelector('#df-02e4e30b-676d-4956-a626-fc3dab8f66f4');\n",
              "          const dataTable =\n",
              "            await google.colab.kernel.invokeFunction('convertToInteractive',\n",
              "                                                     [key], {});\n",
              "          if (!dataTable) return;\n",
              "\n",
              "          const docLinkHtml = 'Like what you see? Visit the ' +\n",
              "            '<a target=\"_blank\" href=https://colab.research.google.com/notebooks/data_table.ipynb>data table notebook</a>'\n",
              "            + ' to learn more about interactive tables.';\n",
              "          element.innerHTML = '';\n",
              "          dataTable['output_type'] = 'display_data';\n",
              "          await google.colab.output.renderOutput(dataTable, element);\n",
              "          const docLink = document.createElement('div');\n",
              "          docLink.innerHTML = docLinkHtml;\n",
              "          element.appendChild(docLink);\n",
              "        }\n",
              "      </script>\n",
              "    </div>\n",
              "  </div>\n",
              "  "
            ]
          },
          "metadata": {},
          "execution_count": 5
        }
      ],
      "source": [
        "df.head()"
      ]
    },
    {
      "cell_type": "markdown",
      "metadata": {
        "id": "hsiUWKcCrsQv"
      },
      "source": [
        "Selection of the first 650 lines:\n",
        "Отбор первых 650 строк:"
      ]
    },
    {
      "cell_type": "code",
      "execution_count": 6,
      "metadata": {
        "id": "DO1tgqz6rsQx"
      },
      "outputs": [],
      "source": [
        "task_data = df.head(650)"
      ]
    },
    {
      "cell_type": "markdown",
      "metadata": {
        "id": "jWanYJj1rsQy"
      },
      "source": [
        "Output of the number of rows in the resulting sample and related to class 0 (the patient has diabetes)\n",
        "\n",
        "Вывод числа строк в получившейся выборке и относящихся к классу 0 (пациент болен диабетом)"
      ]
    },
    {
      "cell_type": "code",
      "execution_count": 7,
      "metadata": {
        "colab": {
          "base_uri": "https://localhost:8080/"
        },
        "id": "YJYzW3K0rsQy",
        "outputId": "ac37fdbf-6c0a-4d82-aae8-eab9840971cd"
      },
      "outputs": [
        {
          "output_type": "execute_result",
          "data": {
            "text/plain": [
              "427"
            ]
          },
          "metadata": {},
          "execution_count": 7
        }
      ],
      "source": [
        "len(task_data[task_data['Outcome'] == 0])"
      ]
    },
    {
      "cell_type": "markdown",
      "metadata": {
        "id": "SNgscjEzrsQz"
      },
      "source": [
        "Divided data into training and test data. The first 80% of the lines are training, the rest are test.\n",
        "\n",
        "Разделеные данных на тренировочные и тестовые. Первые 80% строк — тренировочные, остальные — тестовые."
      ]
    },
    {
      "cell_type": "code",
      "execution_count": 8,
      "metadata": {
        "id": "-5OB_UjZrsQ0"
      },
      "outputs": [],
      "source": [
        "train = task_data.head(int(len(task_data)*0.8))\n",
        "test = task_data.tail(int(len(task_data)*0.2))"
      ]
    },
    {
      "cell_type": "markdown",
      "metadata": {
        "id": "9ZDrjeZorsQ2"
      },
      "source": [
        "We select the predictors (the first 8 columns) and the response (Outcome):\n",
        "\n",
        "Выделяем предикторы (8 первых столбцов) и отклик (Outcome):"
      ]
    },
    {
      "cell_type": "code",
      "execution_count": 9,
      "metadata": {
        "id": "xUv98fhKrsQ2"
      },
      "outputs": [],
      "source": [
        "features = list(train.columns[:8])\n",
        "x = train[features]\n",
        "y = train['Outcome']"
      ]
    },
    {
      "cell_type": "markdown",
      "metadata": {
        "id": "jS77l34ErsQ3"
      },
      "source": [
        "Connecting the classifier DecisionTreeClassifier:\n",
        "\n",
        "Подключем классификатор DecisionTreeClassifier:"
      ]
    },
    {
      "cell_type": "code",
      "execution_count": 10,
      "metadata": {
        "id": "DVcm59ztrsQ3"
      },
      "outputs": [],
      "source": [
        "from sklearn.tree import DecisionTreeClassifier"
      ]
    },
    {
      "cell_type": "markdown",
      "metadata": {
        "id": "I5fTMivqrsQ4"
      },
      "source": [
        "We set the parameters of the decision tree and train the model:\n",
        "\n",
        "Задаем параметры дерева принятия решений и обучаем модель:"
      ]
    },
    {
      "cell_type": "code",
      "execution_count": 11,
      "metadata": {
        "id": "L41-QT23rsQ4"
      },
      "outputs": [],
      "source": [
        "tree = DecisionTreeClassifier(criterion='entropy', #критерий разделения\n",
        "                              min_samples_leaf=20, #минимальное число объектов в листе\n",
        "                              max_leaf_nodes=30, #максимальное число листьев\n",
        "                              random_state=2020)\n",
        "clf=tree.fit(x, y)"
      ]
    },
    {
      "cell_type": "markdown",
      "metadata": {
        "id": "kDyQav9lrsQ5"
      },
      "source": [
        "Connecting the library to visualize the tree. We save it to a file and display it on the screen.\n",
        "\n",
        "Подключаем библиотеку для визуализации дерева. Сохраняем в файл и выводим на экран."
      ]
    },
    {
      "cell_type": "code",
      "execution_count": 12,
      "metadata": {
        "colab": {
          "base_uri": "https://localhost:8080/",
          "height": 1000
        },
        "id": "rqFNuYE8rsQ5",
        "outputId": "778af709-2761-42ef-93d0-b8aa62fe4c70"
      },
      "outputs": [
        {
          "output_type": "execute_result",
          "data": {
            "text/plain": [
              "<graphviz.files.Source at 0x7f639cc9fe50>"
            ],
            "image/svg+xml": "<?xml version=\"1.0\" encoding=\"UTF-8\" standalone=\"no\"?>\n<!DOCTYPE svg PUBLIC \"-//W3C//DTD SVG 1.1//EN\"\n \"http://www.w3.org/Graphics/SVG/1.1/DTD/svg11.dtd\">\n<!-- Generated by graphviz version 2.40.1 (20161225.0304)\n -->\n<!-- Title: Tree Pages: 1 -->\n<svg width=\"1357pt\" height=\"909pt\"\n viewBox=\"0.00 0.00 1357.00 909.00\" xmlns=\"http://www.w3.org/2000/svg\" xmlns:xlink=\"http://www.w3.org/1999/xlink\">\n<g id=\"graph0\" class=\"graph\" transform=\"scale(1 1) rotate(0) translate(4 905)\">\n<title>Tree</title>\n<polygon fill=\"#ffffff\" stroke=\"transparent\" points=\"-4,4 -4,-905 1353,-905 1353,4 -4,4\"/>\n<!-- 0 -->\n<g id=\"node1\" class=\"node\">\n<title>0</title>\n<path fill=\"#f4c8a8\" stroke=\"#000000\" d=\"M649,-901C649,-901 541,-901 541,-901 535,-901 529,-895 529,-889 529,-889 529,-830 529,-830 529,-824 535,-818 541,-818 541,-818 649,-818 649,-818 655,-818 661,-824 661,-830 661,-830 661,-889 661,-889 661,-895 655,-901 649,-901\"/>\n<text text-anchor=\"middle\" x=\"595\" y=\"-885.8\" font-family=\"Helvetica,sans-Serif\" font-size=\"14.00\" fill=\"#000000\">Glucose &lt;= 154.5</text>\n<text text-anchor=\"middle\" x=\"595\" y=\"-870.8\" font-family=\"Helvetica,sans-Serif\" font-size=\"14.00\" fill=\"#000000\">entropy = 0.94</text>\n<text text-anchor=\"middle\" x=\"595\" y=\"-855.8\" font-family=\"Helvetica,sans-Serif\" font-size=\"14.00\" fill=\"#000000\">samples = 520</text>\n<text text-anchor=\"middle\" x=\"595\" y=\"-840.8\" font-family=\"Helvetica,sans-Serif\" font-size=\"14.00\" fill=\"#000000\">value = [333, 187]</text>\n<text text-anchor=\"middle\" x=\"595\" y=\"-825.8\" font-family=\"Helvetica,sans-Serif\" font-size=\"14.00\" fill=\"#000000\">class = 0</text>\n</g>\n<!-- 1 -->\n<g id=\"node2\" class=\"node\">\n<title>1</title>\n<path fill=\"#efb184\" stroke=\"#000000\" d=\"M547,-782C547,-782 439,-782 439,-782 433,-782 427,-776 427,-770 427,-770 427,-711 427,-711 427,-705 433,-699 439,-699 439,-699 547,-699 547,-699 553,-699 559,-705 559,-711 559,-711 559,-770 559,-770 559,-776 553,-782 547,-782\"/>\n<text text-anchor=\"middle\" x=\"493\" y=\"-766.8\" font-family=\"Helvetica,sans-Serif\" font-size=\"14.00\" fill=\"#000000\">BMI &lt;= 26.3</text>\n<text text-anchor=\"middle\" x=\"493\" y=\"-751.8\" font-family=\"Helvetica,sans-Serif\" font-size=\"14.00\" fill=\"#000000\">entropy = 0.85</text>\n<text text-anchor=\"middle\" x=\"493\" y=\"-736.8\" font-family=\"Helvetica,sans-Serif\" font-size=\"14.00\" fill=\"#000000\">samples = 437</text>\n<text text-anchor=\"middle\" x=\"493\" y=\"-721.8\" font-family=\"Helvetica,sans-Serif\" font-size=\"14.00\" fill=\"#000000\">value = [317, 120]</text>\n<text text-anchor=\"middle\" x=\"493\" y=\"-706.8\" font-family=\"Helvetica,sans-Serif\" font-size=\"14.00\" fill=\"#000000\">class = 0</text>\n</g>\n<!-- 0&#45;&gt;1 -->\n<g id=\"edge1\" class=\"edge\">\n<title>0&#45;&gt;1</title>\n<path fill=\"none\" stroke=\"#000000\" d=\"M559.3253,-817.8796C551.6057,-808.8733 543.3695,-799.2644 535.4197,-789.9897\"/>\n<polygon fill=\"#000000\" stroke=\"#000000\" points=\"537.9923,-787.6129 528.8269,-782.2981 532.6775,-792.1684 537.9923,-787.6129\"/>\n<text text-anchor=\"middle\" x=\"526.9095\" y=\"-803.5244\" font-family=\"Helvetica,sans-Serif\" font-size=\"14.00\" fill=\"#000000\">True</text>\n</g>\n<!-- 2 -->\n<g id=\"node33\" class=\"node\">\n<title>2</title>\n<path fill=\"#68b4eb\" stroke=\"#000000\" d=\"M820,-782C820,-782 602,-782 602,-782 596,-782 590,-776 590,-770 590,-770 590,-711 590,-711 590,-705 596,-699 602,-699 602,-699 820,-699 820,-699 826,-699 832,-705 832,-711 832,-711 832,-770 832,-770 832,-776 826,-782 820,-782\"/>\n<text text-anchor=\"middle\" x=\"711\" y=\"-766.8\" font-family=\"Helvetica,sans-Serif\" font-size=\"14.00\" fill=\"#000000\">DiabetesPedigreeFunction &lt;= 0.31</text>\n<text text-anchor=\"middle\" x=\"711\" y=\"-751.8\" font-family=\"Helvetica,sans-Serif\" font-size=\"14.00\" fill=\"#000000\">entropy = 0.71</text>\n<text text-anchor=\"middle\" x=\"711\" y=\"-736.8\" font-family=\"Helvetica,sans-Serif\" font-size=\"14.00\" fill=\"#000000\">samples = 83</text>\n<text text-anchor=\"middle\" x=\"711\" y=\"-721.8\" font-family=\"Helvetica,sans-Serif\" font-size=\"14.00\" fill=\"#000000\">value = [16, 67]</text>\n<text text-anchor=\"middle\" x=\"711\" y=\"-706.8\" font-family=\"Helvetica,sans-Serif\" font-size=\"14.00\" fill=\"#000000\">class = 1</text>\n</g>\n<!-- 0&#45;&gt;2 -->\n<g id=\"edge32\" class=\"edge\">\n<title>0&#45;&gt;2</title>\n<path fill=\"none\" stroke=\"#000000\" d=\"M635.5712,-817.8796C644.4382,-808.7832 653.9044,-799.0722 663.0291,-789.7116\"/>\n<polygon fill=\"#000000\" stroke=\"#000000\" points=\"665.7817,-791.9019 670.2557,-782.2981 660.7691,-787.0158 665.7817,-791.9019\"/>\n<text text-anchor=\"middle\" x=\"670.5748\" y=\"-803.596\" font-family=\"Helvetica,sans-Serif\" font-size=\"14.00\" fill=\"#000000\">False</text>\n</g>\n<!-- 3 -->\n<g id=\"node3\" class=\"node\">\n<title>3</title>\n<path fill=\"#e68641\" stroke=\"#000000\" d=\"M235.5,-663C235.5,-663 128.5,-663 128.5,-663 122.5,-663 116.5,-657 116.5,-651 116.5,-651 116.5,-592 116.5,-592 116.5,-586 122.5,-580 128.5,-580 128.5,-580 235.5,-580 235.5,-580 241.5,-580 247.5,-586 247.5,-592 247.5,-592 247.5,-651 247.5,-651 247.5,-657 241.5,-663 235.5,-663\"/>\n<text text-anchor=\"middle\" x=\"182\" y=\"-647.8\" font-family=\"Helvetica,sans-Serif\" font-size=\"14.00\" fill=\"#000000\">Glucose &lt;= 106.5</text>\n<text text-anchor=\"middle\" x=\"182\" y=\"-632.8\" font-family=\"Helvetica,sans-Serif\" font-size=\"14.00\" fill=\"#000000\">entropy = 0.23</text>\n<text text-anchor=\"middle\" x=\"182\" y=\"-617.8\" font-family=\"Helvetica,sans-Serif\" font-size=\"14.00\" fill=\"#000000\">samples = 109</text>\n<text text-anchor=\"middle\" x=\"182\" y=\"-602.8\" font-family=\"Helvetica,sans-Serif\" font-size=\"14.00\" fill=\"#000000\">value = [105, 4]</text>\n<text text-anchor=\"middle\" x=\"182\" y=\"-587.8\" font-family=\"Helvetica,sans-Serif\" font-size=\"14.00\" fill=\"#000000\">class = 0</text>\n</g>\n<!-- 1&#45;&gt;3 -->\n<g id=\"edge2\" class=\"edge\">\n<title>1&#45;&gt;3</title>\n<path fill=\"none\" stroke=\"#000000\" d=\"M426.6642,-715.1175C376.9538,-696.0965 308.8816,-670.0495 257.1591,-650.2586\"/>\n<polygon fill=\"#000000\" stroke=\"#000000\" points=\"258.2901,-646.944 247.6997,-646.6391 255.7885,-653.4817 258.2901,-646.944\"/>\n</g>\n<!-- 4 -->\n<g id=\"node8\" class=\"node\">\n<title>4</title>\n<path fill=\"#f3c6a5\" stroke=\"#000000\" d=\"M547,-663C547,-663 439,-663 439,-663 433,-663 427,-657 427,-651 427,-651 427,-592 427,-592 427,-586 433,-580 439,-580 439,-580 547,-580 547,-580 553,-580 559,-586 559,-592 559,-592 559,-651 559,-651 559,-657 553,-663 547,-663\"/>\n<text text-anchor=\"middle\" x=\"493\" y=\"-647.8\" font-family=\"Helvetica,sans-Serif\" font-size=\"14.00\" fill=\"#000000\">Glucose &lt;= 99.5</text>\n<text text-anchor=\"middle\" x=\"493\" y=\"-632.8\" font-family=\"Helvetica,sans-Serif\" font-size=\"14.00\" fill=\"#000000\">entropy = 0.94</text>\n<text text-anchor=\"middle\" x=\"493\" y=\"-617.8\" font-family=\"Helvetica,sans-Serif\" font-size=\"14.00\" fill=\"#000000\">samples = 328</text>\n<text text-anchor=\"middle\" x=\"493\" y=\"-602.8\" font-family=\"Helvetica,sans-Serif\" font-size=\"14.00\" fill=\"#000000\">value = [212, 116]</text>\n<text text-anchor=\"middle\" x=\"493\" y=\"-587.8\" font-family=\"Helvetica,sans-Serif\" font-size=\"14.00\" fill=\"#000000\">class = 0</text>\n</g>\n<!-- 1&#45;&gt;4 -->\n<g id=\"edge7\" class=\"edge\">\n<title>1&#45;&gt;4</title>\n<path fill=\"none\" stroke=\"#000000\" d=\"M493,-698.8796C493,-690.6838 493,-681.9891 493,-673.5013\"/>\n<polygon fill=\"#000000\" stroke=\"#000000\" points=\"496.5001,-673.298 493,-663.2981 489.5001,-673.2981 496.5001,-673.298\"/>\n</g>\n<!-- 21 -->\n<g id=\"node4\" class=\"node\">\n<title>21</title>\n<path fill=\"#e58139\" stroke=\"#000000\" d=\"M96.5,-536.5C96.5,-536.5 13.5,-536.5 13.5,-536.5 7.5,-536.5 1.5,-530.5 1.5,-524.5 1.5,-524.5 1.5,-480.5 1.5,-480.5 1.5,-474.5 7.5,-468.5 13.5,-468.5 13.5,-468.5 96.5,-468.5 96.5,-468.5 102.5,-468.5 108.5,-474.5 108.5,-480.5 108.5,-480.5 108.5,-524.5 108.5,-524.5 108.5,-530.5 102.5,-536.5 96.5,-536.5\"/>\n<text text-anchor=\"middle\" x=\"55\" y=\"-521.3\" font-family=\"Helvetica,sans-Serif\" font-size=\"14.00\" fill=\"#000000\">entropy = 0.0</text>\n<text text-anchor=\"middle\" x=\"55\" y=\"-506.3\" font-family=\"Helvetica,sans-Serif\" font-size=\"14.00\" fill=\"#000000\">samples = 59</text>\n<text text-anchor=\"middle\" x=\"55\" y=\"-491.3\" font-family=\"Helvetica,sans-Serif\" font-size=\"14.00\" fill=\"#000000\">value = [59, 0]</text>\n<text text-anchor=\"middle\" x=\"55\" y=\"-476.3\" font-family=\"Helvetica,sans-Serif\" font-size=\"14.00\" fill=\"#000000\">class = 0</text>\n</g>\n<!-- 3&#45;&gt;21 -->\n<g id=\"edge3\" class=\"edge\">\n<title>3&#45;&gt;21</title>\n<path fill=\"none\" stroke=\"#000000\" d=\"M137.5816,-579.8796C125.1421,-568.2237 111.6257,-555.5587 99.199,-543.9148\"/>\n<polygon fill=\"#000000\" stroke=\"#000000\" points=\"101.3121,-541.0985 91.6218,-536.8149 96.5259,-546.2065 101.3121,-541.0985\"/>\n</g>\n<!-- 22 -->\n<g id=\"node5\" class=\"node\">\n<title>22</title>\n<path fill=\"#e78c4a\" stroke=\"#000000\" d=\"M225.5,-544C225.5,-544 138.5,-544 138.5,-544 132.5,-544 126.5,-538 126.5,-532 126.5,-532 126.5,-473 126.5,-473 126.5,-467 132.5,-461 138.5,-461 138.5,-461 225.5,-461 225.5,-461 231.5,-461 237.5,-467 237.5,-473 237.5,-473 237.5,-532 237.5,-532 237.5,-538 231.5,-544 225.5,-544\"/>\n<text text-anchor=\"middle\" x=\"182\" y=\"-528.8\" font-family=\"Helvetica,sans-Serif\" font-size=\"14.00\" fill=\"#000000\">Insulin &lt;= 49.0</text>\n<text text-anchor=\"middle\" x=\"182\" y=\"-513.8\" font-family=\"Helvetica,sans-Serif\" font-size=\"14.00\" fill=\"#000000\">entropy = 0.4</text>\n<text text-anchor=\"middle\" x=\"182\" y=\"-498.8\" font-family=\"Helvetica,sans-Serif\" font-size=\"14.00\" fill=\"#000000\">samples = 50</text>\n<text text-anchor=\"middle\" x=\"182\" y=\"-483.8\" font-family=\"Helvetica,sans-Serif\" font-size=\"14.00\" fill=\"#000000\">value = [46, 4]</text>\n<text text-anchor=\"middle\" x=\"182\" y=\"-468.8\" font-family=\"Helvetica,sans-Serif\" font-size=\"14.00\" fill=\"#000000\">class = 0</text>\n</g>\n<!-- 3&#45;&gt;22 -->\n<g id=\"edge4\" class=\"edge\">\n<title>3&#45;&gt;22</title>\n<path fill=\"none\" stroke=\"#000000\" d=\"M182,-579.8796C182,-571.6838 182,-562.9891 182,-554.5013\"/>\n<polygon fill=\"#000000\" stroke=\"#000000\" points=\"185.5001,-554.298 182,-544.2981 178.5001,-554.2981 185.5001,-554.298\"/>\n</g>\n<!-- 23 -->\n<g id=\"node6\" class=\"node\">\n<title>23</title>\n<path fill=\"#ea985d\" stroke=\"#000000\" d=\"M98,-417.5C98,-417.5 12,-417.5 12,-417.5 6,-417.5 0,-411.5 0,-405.5 0,-405.5 0,-361.5 0,-361.5 0,-355.5 6,-349.5 12,-349.5 12,-349.5 98,-349.5 98,-349.5 104,-349.5 110,-355.5 110,-361.5 110,-361.5 110,-405.5 110,-405.5 110,-411.5 104,-417.5 98,-417.5\"/>\n<text text-anchor=\"middle\" x=\"55\" y=\"-402.3\" font-family=\"Helvetica,sans-Serif\" font-size=\"14.00\" fill=\"#000000\">entropy = 0.62</text>\n<text text-anchor=\"middle\" x=\"55\" y=\"-387.3\" font-family=\"Helvetica,sans-Serif\" font-size=\"14.00\" fill=\"#000000\">samples = 26</text>\n<text text-anchor=\"middle\" x=\"55\" y=\"-372.3\" font-family=\"Helvetica,sans-Serif\" font-size=\"14.00\" fill=\"#000000\">value = [22, 4]</text>\n<text text-anchor=\"middle\" x=\"55\" y=\"-357.3\" font-family=\"Helvetica,sans-Serif\" font-size=\"14.00\" fill=\"#000000\">class = 0</text>\n</g>\n<!-- 22&#45;&gt;23 -->\n<g id=\"edge5\" class=\"edge\">\n<title>22&#45;&gt;23</title>\n<path fill=\"none\" stroke=\"#000000\" d=\"M137.5816,-460.8796C125.1421,-449.2237 111.6257,-436.5587 99.199,-424.9148\"/>\n<polygon fill=\"#000000\" stroke=\"#000000\" points=\"101.3121,-422.0985 91.6218,-417.8149 96.5259,-427.2065 101.3121,-422.0985\"/>\n</g>\n<!-- 24 -->\n<g id=\"node7\" class=\"node\">\n<title>24</title>\n<path fill=\"#e58139\" stroke=\"#000000\" d=\"M223.5,-417.5C223.5,-417.5 140.5,-417.5 140.5,-417.5 134.5,-417.5 128.5,-411.5 128.5,-405.5 128.5,-405.5 128.5,-361.5 128.5,-361.5 128.5,-355.5 134.5,-349.5 140.5,-349.5 140.5,-349.5 223.5,-349.5 223.5,-349.5 229.5,-349.5 235.5,-355.5 235.5,-361.5 235.5,-361.5 235.5,-405.5 235.5,-405.5 235.5,-411.5 229.5,-417.5 223.5,-417.5\"/>\n<text text-anchor=\"middle\" x=\"182\" y=\"-402.3\" font-family=\"Helvetica,sans-Serif\" font-size=\"14.00\" fill=\"#000000\">entropy = 0.0</text>\n<text text-anchor=\"middle\" x=\"182\" y=\"-387.3\" font-family=\"Helvetica,sans-Serif\" font-size=\"14.00\" fill=\"#000000\">samples = 24</text>\n<text text-anchor=\"middle\" x=\"182\" y=\"-372.3\" font-family=\"Helvetica,sans-Serif\" font-size=\"14.00\" fill=\"#000000\">value = [24, 0]</text>\n<text text-anchor=\"middle\" x=\"182\" y=\"-357.3\" font-family=\"Helvetica,sans-Serif\" font-size=\"14.00\" fill=\"#000000\">class = 0</text>\n</g>\n<!-- 22&#45;&gt;24 -->\n<g id=\"edge6\" class=\"edge\">\n<title>22&#45;&gt;24</title>\n<path fill=\"none\" stroke=\"#000000\" d=\"M182,-460.8796C182,-450.2134 182,-438.7021 182,-427.9015\"/>\n<polygon fill=\"#000000\" stroke=\"#000000\" points=\"185.5001,-427.8149 182,-417.8149 178.5001,-427.815 185.5001,-427.8149\"/>\n</g>\n<!-- 5 -->\n<g id=\"node9\" class=\"node\">\n<title>5</title>\n<path fill=\"#e99254\" stroke=\"#000000\" d=\"M537,-544C537,-544 445,-544 445,-544 439,-544 433,-538 433,-532 433,-532 433,-473 433,-473 433,-467 439,-461 445,-461 445,-461 537,-461 537,-461 543,-461 549,-467 549,-473 549,-473 549,-532 549,-532 549,-538 543,-544 537,-544\"/>\n<text text-anchor=\"middle\" x=\"491\" y=\"-528.8\" font-family=\"Helvetica,sans-Serif\" font-size=\"14.00\" fill=\"#000000\">Age &lt;= 25.5</text>\n<text text-anchor=\"middle\" x=\"491\" y=\"-513.8\" font-family=\"Helvetica,sans-Serif\" font-size=\"14.00\" fill=\"#000000\">entropy = 0.53</text>\n<text text-anchor=\"middle\" x=\"491\" y=\"-498.8\" font-family=\"Helvetica,sans-Serif\" font-size=\"14.00\" fill=\"#000000\">samples = 91</text>\n<text text-anchor=\"middle\" x=\"491\" y=\"-483.8\" font-family=\"Helvetica,sans-Serif\" font-size=\"14.00\" fill=\"#000000\">value = [80, 11]</text>\n<text text-anchor=\"middle\" x=\"491\" y=\"-468.8\" font-family=\"Helvetica,sans-Serif\" font-size=\"14.00\" fill=\"#000000\">class = 0</text>\n</g>\n<!-- 4&#45;&gt;5 -->\n<g id=\"edge8\" class=\"edge\">\n<title>4&#45;&gt;5</title>\n<path fill=\"none\" stroke=\"#000000\" d=\"M492.3005,-579.8796C492.1628,-571.6838 492.0166,-562.9891 491.874,-554.5013\"/>\n<polygon fill=\"#000000\" stroke=\"#000000\" points=\"495.3701,-554.2378 491.7025,-544.2981 488.3711,-554.3555 495.3701,-554.2378\"/>\n</g>\n<!-- 6 -->\n<g id=\"node16\" class=\"node\">\n<title>6</title>\n<path fill=\"#fae5d7\" stroke=\"#000000\" d=\"M765,-544C765,-544 657,-544 657,-544 651,-544 645,-538 645,-532 645,-532 645,-473 645,-473 645,-467 651,-461 657,-461 657,-461 765,-461 765,-461 771,-461 777,-467 777,-473 777,-473 777,-532 777,-532 777,-538 771,-544 765,-544\"/>\n<text text-anchor=\"middle\" x=\"711\" y=\"-528.8\" font-family=\"Helvetica,sans-Serif\" font-size=\"14.00\" fill=\"#000000\">Age &lt;= 28.5</text>\n<text text-anchor=\"middle\" x=\"711\" y=\"-513.8\" font-family=\"Helvetica,sans-Serif\" font-size=\"14.00\" fill=\"#000000\">entropy = 0.99</text>\n<text text-anchor=\"middle\" x=\"711\" y=\"-498.8\" font-family=\"Helvetica,sans-Serif\" font-size=\"14.00\" fill=\"#000000\">samples = 237</text>\n<text text-anchor=\"middle\" x=\"711\" y=\"-483.8\" font-family=\"Helvetica,sans-Serif\" font-size=\"14.00\" fill=\"#000000\">value = [132, 105]</text>\n<text text-anchor=\"middle\" x=\"711\" y=\"-468.8\" font-family=\"Helvetica,sans-Serif\" font-size=\"14.00\" fill=\"#000000\">class = 0</text>\n</g>\n<!-- 4&#45;&gt;6 -->\n<g id=\"edge15\" class=\"edge\">\n<title>4&#45;&gt;6</title>\n<path fill=\"none\" stroke=\"#000000\" d=\"M559.2951,-585.3114C583.3934,-572.1568 610.7996,-557.1966 635.6258,-543.6446\"/>\n<polygon fill=\"#000000\" stroke=\"#000000\" points=\"637.5442,-546.585 644.6447,-538.7215 634.1903,-540.4408 637.5442,-546.585\"/>\n</g>\n<!-- 9 -->\n<g id=\"node10\" class=\"node\">\n<title>9</title>\n<path fill=\"#e6843d\" stroke=\"#000000\" d=\"M352,-425C352,-425 266,-425 266,-425 260,-425 254,-419 254,-413 254,-413 254,-354 254,-354 254,-348 260,-342 266,-342 266,-342 352,-342 352,-342 358,-342 364,-348 364,-354 364,-354 364,-413 364,-413 364,-419 358,-425 352,-425\"/>\n<text text-anchor=\"middle\" x=\"309\" y=\"-409.8\" font-family=\"Helvetica,sans-Serif\" font-size=\"14.00\" fill=\"#000000\">BMI &lt;= 32.15</text>\n<text text-anchor=\"middle\" x=\"309\" y=\"-394.8\" font-family=\"Helvetica,sans-Serif\" font-size=\"14.00\" fill=\"#000000\">entropy = 0.15</text>\n<text text-anchor=\"middle\" x=\"309\" y=\"-379.8\" font-family=\"Helvetica,sans-Serif\" font-size=\"14.00\" fill=\"#000000\">samples = 47</text>\n<text text-anchor=\"middle\" x=\"309\" y=\"-364.8\" font-family=\"Helvetica,sans-Serif\" font-size=\"14.00\" fill=\"#000000\">value = [46, 1]</text>\n<text text-anchor=\"middle\" x=\"309\" y=\"-349.8\" font-family=\"Helvetica,sans-Serif\" font-size=\"14.00\" fill=\"#000000\">class = 0</text>\n</g>\n<!-- 5&#45;&gt;9 -->\n<g id=\"edge9\" class=\"edge\">\n<title>5&#45;&gt;9</title>\n<path fill=\"none\" stroke=\"#000000\" d=\"M432.9137,-464.5205C413.7022,-451.9591 392.2288,-437.9188 372.6245,-425.1006\"/>\n<polygon fill=\"#000000\" stroke=\"#000000\" points=\"374.3425,-422.0422 364.0574,-419.4991 370.5117,-427.901 374.3425,-422.0422\"/>\n</g>\n<!-- 10 -->\n<g id=\"node13\" class=\"node\">\n<title>10</title>\n<path fill=\"#eda673\" stroke=\"#000000\" d=\"M561.5,-425C561.5,-425 420.5,-425 420.5,-425 414.5,-425 408.5,-419 408.5,-413 408.5,-413 408.5,-354 408.5,-354 408.5,-348 414.5,-342 420.5,-342 420.5,-342 561.5,-342 561.5,-342 567.5,-342 573.5,-348 573.5,-354 573.5,-354 573.5,-413 573.5,-413 573.5,-419 567.5,-425 561.5,-425\"/>\n<text text-anchor=\"middle\" x=\"491\" y=\"-409.8\" font-family=\"Helvetica,sans-Serif\" font-size=\"14.00\" fill=\"#000000\">BloodPressure &lt;= 73.0</text>\n<text text-anchor=\"middle\" x=\"491\" y=\"-394.8\" font-family=\"Helvetica,sans-Serif\" font-size=\"14.00\" fill=\"#000000\">entropy = 0.77</text>\n<text text-anchor=\"middle\" x=\"491\" y=\"-379.8\" font-family=\"Helvetica,sans-Serif\" font-size=\"14.00\" fill=\"#000000\">samples = 44</text>\n<text text-anchor=\"middle\" x=\"491\" y=\"-364.8\" font-family=\"Helvetica,sans-Serif\" font-size=\"14.00\" fill=\"#000000\">value = [34, 10]</text>\n<text text-anchor=\"middle\" x=\"491\" y=\"-349.8\" font-family=\"Helvetica,sans-Serif\" font-size=\"14.00\" fill=\"#000000\">class = 0</text>\n</g>\n<!-- 5&#45;&gt;10 -->\n<g id=\"edge12\" class=\"edge\">\n<title>5&#45;&gt;10</title>\n<path fill=\"none\" stroke=\"#000000\" d=\"M491,-460.8796C491,-452.6838 491,-443.9891 491,-435.5013\"/>\n<polygon fill=\"#000000\" stroke=\"#000000\" points=\"494.5001,-435.298 491,-425.2981 487.5001,-435.2981 494.5001,-435.298\"/>\n</g>\n<!-- 33 -->\n<g id=\"node11\" class=\"node\">\n<title>33</title>\n<path fill=\"#e58139\" stroke=\"#000000\" d=\"M221.5,-298.5C221.5,-298.5 138.5,-298.5 138.5,-298.5 132.5,-298.5 126.5,-292.5 126.5,-286.5 126.5,-286.5 126.5,-242.5 126.5,-242.5 126.5,-236.5 132.5,-230.5 138.5,-230.5 138.5,-230.5 221.5,-230.5 221.5,-230.5 227.5,-230.5 233.5,-236.5 233.5,-242.5 233.5,-242.5 233.5,-286.5 233.5,-286.5 233.5,-292.5 227.5,-298.5 221.5,-298.5\"/>\n<text text-anchor=\"middle\" x=\"180\" y=\"-283.3\" font-family=\"Helvetica,sans-Serif\" font-size=\"14.00\" fill=\"#000000\">entropy = 0.0</text>\n<text text-anchor=\"middle\" x=\"180\" y=\"-268.3\" font-family=\"Helvetica,sans-Serif\" font-size=\"14.00\" fill=\"#000000\">samples = 27</text>\n<text text-anchor=\"middle\" x=\"180\" y=\"-253.3\" font-family=\"Helvetica,sans-Serif\" font-size=\"14.00\" fill=\"#000000\">value = [27, 0]</text>\n<text text-anchor=\"middle\" x=\"180\" y=\"-238.3\" font-family=\"Helvetica,sans-Serif\" font-size=\"14.00\" fill=\"#000000\">class = 0</text>\n</g>\n<!-- 9&#45;&gt;33 -->\n<g id=\"edge10\" class=\"edge\">\n<title>9&#45;&gt;33</title>\n<path fill=\"none\" stroke=\"#000000\" d=\"M263.8821,-341.8796C251.2467,-330.2237 237.5174,-317.5587 224.895,-305.9148\"/>\n<polygon fill=\"#000000\" stroke=\"#000000\" points=\"226.922,-303.0228 217.1985,-298.8149 222.1756,-308.168 226.922,-303.0228\"/>\n</g>\n<!-- 34 -->\n<g id=\"node12\" class=\"node\">\n<title>34</title>\n<path fill=\"#e68843\" stroke=\"#000000\" d=\"M350,-298.5C350,-298.5 264,-298.5 264,-298.5 258,-298.5 252,-292.5 252,-286.5 252,-286.5 252,-242.5 252,-242.5 252,-236.5 258,-230.5 264,-230.5 264,-230.5 350,-230.5 350,-230.5 356,-230.5 362,-236.5 362,-242.5 362,-242.5 362,-286.5 362,-286.5 362,-292.5 356,-298.5 350,-298.5\"/>\n<text text-anchor=\"middle\" x=\"307\" y=\"-283.3\" font-family=\"Helvetica,sans-Serif\" font-size=\"14.00\" fill=\"#000000\">entropy = 0.29</text>\n<text text-anchor=\"middle\" x=\"307\" y=\"-268.3\" font-family=\"Helvetica,sans-Serif\" font-size=\"14.00\" fill=\"#000000\">samples = 20</text>\n<text text-anchor=\"middle\" x=\"307\" y=\"-253.3\" font-family=\"Helvetica,sans-Serif\" font-size=\"14.00\" fill=\"#000000\">value = [19, 1]</text>\n<text text-anchor=\"middle\" x=\"307\" y=\"-238.3\" font-family=\"Helvetica,sans-Serif\" font-size=\"14.00\" fill=\"#000000\">class = 0</text>\n</g>\n<!-- 9&#45;&gt;34 -->\n<g id=\"edge11\" class=\"edge\">\n<title>9&#45;&gt;34</title>\n<path fill=\"none\" stroke=\"#000000\" d=\"M308.3005,-341.8796C308.1212,-331.2134 307.9278,-319.7021 307.7462,-308.9015\"/>\n<polygon fill=\"#000000\" stroke=\"#000000\" points=\"311.2444,-308.7547 307.5767,-298.8149 304.2454,-308.8724 311.2444,-308.7547\"/>\n</g>\n<!-- 25 -->\n<g id=\"node14\" class=\"node\">\n<title>25</title>\n<path fill=\"#f3c5a4\" stroke=\"#000000\" d=\"M478,-298.5C478,-298.5 392,-298.5 392,-298.5 386,-298.5 380,-292.5 380,-286.5 380,-286.5 380,-242.5 380,-242.5 380,-236.5 386,-230.5 392,-230.5 392,-230.5 478,-230.5 478,-230.5 484,-230.5 490,-236.5 490,-242.5 490,-242.5 490,-286.5 490,-286.5 490,-292.5 484,-298.5 478,-298.5\"/>\n<text text-anchor=\"middle\" x=\"435\" y=\"-283.3\" font-family=\"Helvetica,sans-Serif\" font-size=\"14.00\" fill=\"#000000\">entropy = 0.93</text>\n<text text-anchor=\"middle\" x=\"435\" y=\"-268.3\" font-family=\"Helvetica,sans-Serif\" font-size=\"14.00\" fill=\"#000000\">samples = 20</text>\n<text text-anchor=\"middle\" x=\"435\" y=\"-253.3\" font-family=\"Helvetica,sans-Serif\" font-size=\"14.00\" fill=\"#000000\">value = [13, 7]</text>\n<text text-anchor=\"middle\" x=\"435\" y=\"-238.3\" font-family=\"Helvetica,sans-Serif\" font-size=\"14.00\" fill=\"#000000\">class = 0</text>\n</g>\n<!-- 10&#45;&gt;25 -->\n<g id=\"edge13\" class=\"edge\">\n<title>10&#45;&gt;25</title>\n<path fill=\"none\" stroke=\"#000000\" d=\"M471.4139,-341.8796C466.2393,-330.8835 460.642,-318.9893 455.4242,-307.9015\"/>\n<polygon fill=\"#000000\" stroke=\"#000000\" points=\"458.5731,-306.3728 451.1482,-298.8149 452.2394,-309.3534 458.5731,-306.3728\"/>\n</g>\n<!-- 26 -->\n<g id=\"node15\" class=\"node\">\n<title>26</title>\n<path fill=\"#e99355\" stroke=\"#000000\" d=\"M606,-298.5C606,-298.5 520,-298.5 520,-298.5 514,-298.5 508,-292.5 508,-286.5 508,-286.5 508,-242.5 508,-242.5 508,-236.5 514,-230.5 520,-230.5 520,-230.5 606,-230.5 606,-230.5 612,-230.5 618,-236.5 618,-242.5 618,-242.5 618,-286.5 618,-286.5 618,-292.5 612,-298.5 606,-298.5\"/>\n<text text-anchor=\"middle\" x=\"563\" y=\"-283.3\" font-family=\"Helvetica,sans-Serif\" font-size=\"14.00\" fill=\"#000000\">entropy = 0.54</text>\n<text text-anchor=\"middle\" x=\"563\" y=\"-268.3\" font-family=\"Helvetica,sans-Serif\" font-size=\"14.00\" fill=\"#000000\">samples = 24</text>\n<text text-anchor=\"middle\" x=\"563\" y=\"-253.3\" font-family=\"Helvetica,sans-Serif\" font-size=\"14.00\" fill=\"#000000\">value = [21, 3]</text>\n<text text-anchor=\"middle\" x=\"563\" y=\"-238.3\" font-family=\"Helvetica,sans-Serif\" font-size=\"14.00\" fill=\"#000000\">class = 0</text>\n</g>\n<!-- 10&#45;&gt;26 -->\n<g id=\"edge14\" class=\"edge\">\n<title>10&#45;&gt;26</title>\n<path fill=\"none\" stroke=\"#000000\" d=\"M516.1821,-341.8796C522.9017,-330.7735 530.1757,-318.7513 536.9414,-307.5691\"/>\n<polygon fill=\"#000000\" stroke=\"#000000\" points=\"540.0559,-309.1826 542.238,-298.8149 534.0668,-305.5589 540.0559,-309.1826\"/>\n</g>\n<!-- 7 -->\n<g id=\"node17\" class=\"node\">\n<title>7</title>\n<path fill=\"#f0b78e\" stroke=\"#000000\" d=\"M771.5,-425C771.5,-425 664.5,-425 664.5,-425 658.5,-425 652.5,-419 652.5,-413 652.5,-413 652.5,-354 652.5,-354 652.5,-348 658.5,-342 664.5,-342 664.5,-342 771.5,-342 771.5,-342 777.5,-342 783.5,-348 783.5,-354 783.5,-354 783.5,-413 783.5,-413 783.5,-419 777.5,-425 771.5,-425\"/>\n<text text-anchor=\"middle\" x=\"718\" y=\"-409.8\" font-family=\"Helvetica,sans-Serif\" font-size=\"14.00\" fill=\"#000000\">Glucose &lt;= 127.5</text>\n<text text-anchor=\"middle\" x=\"718\" y=\"-394.8\" font-family=\"Helvetica,sans-Serif\" font-size=\"14.00\" fill=\"#000000\">entropy = 0.88</text>\n<text text-anchor=\"middle\" x=\"718\" y=\"-379.8\" font-family=\"Helvetica,sans-Serif\" font-size=\"14.00\" fill=\"#000000\">samples = 93</text>\n<text text-anchor=\"middle\" x=\"718\" y=\"-364.8\" font-family=\"Helvetica,sans-Serif\" font-size=\"14.00\" fill=\"#000000\">value = [65, 28]</text>\n<text text-anchor=\"middle\" x=\"718\" y=\"-349.8\" font-family=\"Helvetica,sans-Serif\" font-size=\"14.00\" fill=\"#000000\">class = 0</text>\n</g>\n<!-- 6&#45;&gt;7 -->\n<g id=\"edge16\" class=\"edge\">\n<title>6&#45;&gt;7</title>\n<path fill=\"none\" stroke=\"#000000\" d=\"M713.4483,-460.8796C713.9304,-452.6838 714.4418,-443.9891 714.9411,-435.5013\"/>\n<polygon fill=\"#000000\" stroke=\"#000000\" points=\"718.4479,-435.4864 715.5413,-425.2981 711.46,-435.0753 718.4479,-435.4864\"/>\n</g>\n<!-- 8 -->\n<g id=\"node22\" class=\"node\">\n<title>8</title>\n<path fill=\"#e5f2fc\" stroke=\"#000000\" d=\"M1119,-425C1119,-425 901,-425 901,-425 895,-425 889,-419 889,-413 889,-413 889,-354 889,-354 889,-348 895,-342 901,-342 901,-342 1119,-342 1119,-342 1125,-342 1131,-348 1131,-354 1131,-354 1131,-413 1131,-413 1131,-419 1125,-425 1119,-425\"/>\n<text text-anchor=\"middle\" x=\"1010\" y=\"-409.8\" font-family=\"Helvetica,sans-Serif\" font-size=\"14.00\" fill=\"#000000\">DiabetesPedigreeFunction &lt;= 0.51</text>\n<text text-anchor=\"middle\" x=\"1010\" y=\"-394.8\" font-family=\"Helvetica,sans-Serif\" font-size=\"14.00\" fill=\"#000000\">entropy = 1.0</text>\n<text text-anchor=\"middle\" x=\"1010\" y=\"-379.8\" font-family=\"Helvetica,sans-Serif\" font-size=\"14.00\" fill=\"#000000\">samples = 144</text>\n<text text-anchor=\"middle\" x=\"1010\" y=\"-364.8\" font-family=\"Helvetica,sans-Serif\" font-size=\"14.00\" fill=\"#000000\">value = [67, 77]</text>\n<text text-anchor=\"middle\" x=\"1010\" y=\"-349.8\" font-family=\"Helvetica,sans-Serif\" font-size=\"14.00\" fill=\"#000000\">class = 1</text>\n</g>\n<!-- 6&#45;&gt;8 -->\n<g id=\"edge21\" class=\"edge\">\n<title>6&#45;&gt;8</title>\n<path fill=\"none\" stroke=\"#000000\" d=\"M777.3528,-465.0079C780.2548,-463.6148 783.1456,-462.2721 786,-461 815.6349,-447.7927 848.263,-435.3695 879.2295,-424.5001\"/>\n<polygon fill=\"#000000\" stroke=\"#000000\" points=\"880.4862,-427.7688 888.7813,-421.1776 878.1864,-421.1573 880.4862,-427.7688\"/>\n</g>\n<!-- 19 -->\n<g id=\"node18\" class=\"node\">\n<title>19</title>\n<path fill=\"#eca06a\" stroke=\"#000000\" d=\"M788,-306C788,-306 648,-306 648,-306 642,-306 636,-300 636,-294 636,-294 636,-235 636,-235 636,-229 642,-223 648,-223 648,-223 788,-223 788,-223 794,-223 800,-229 800,-235 800,-235 800,-294 800,-294 800,-300 794,-306 788,-306\"/>\n<text text-anchor=\"middle\" x=\"718\" y=\"-290.8\" font-family=\"Helvetica,sans-Serif\" font-size=\"14.00\" fill=\"#000000\">SkinThickness &lt;= 29.5</text>\n<text text-anchor=\"middle\" x=\"718\" y=\"-275.8\" font-family=\"Helvetica,sans-Serif\" font-size=\"14.00\" fill=\"#000000\">entropy = 0.72</text>\n<text text-anchor=\"middle\" x=\"718\" y=\"-260.8\" font-family=\"Helvetica,sans-Serif\" font-size=\"14.00\" fill=\"#000000\">samples = 55</text>\n<text text-anchor=\"middle\" x=\"718\" y=\"-245.8\" font-family=\"Helvetica,sans-Serif\" font-size=\"14.00\" fill=\"#000000\">value = [44, 11]</text>\n<text text-anchor=\"middle\" x=\"718\" y=\"-230.8\" font-family=\"Helvetica,sans-Serif\" font-size=\"14.00\" fill=\"#000000\">class = 0</text>\n</g>\n<!-- 7&#45;&gt;19 -->\n<g id=\"edge17\" class=\"edge\">\n<title>7&#45;&gt;19</title>\n<path fill=\"none\" stroke=\"#000000\" d=\"M718,-341.8796C718,-333.6838 718,-324.9891 718,-316.5013\"/>\n<polygon fill=\"#000000\" stroke=\"#000000\" points=\"721.5001,-316.298 718,-306.2981 714.5001,-316.2981 721.5001,-316.298\"/>\n</g>\n<!-- 20 -->\n<g id=\"node21\" class=\"node\">\n<title>20</title>\n<path fill=\"#fae7d9\" stroke=\"#000000\" d=\"M922,-298.5C922,-298.5 830,-298.5 830,-298.5 824,-298.5 818,-292.5 818,-286.5 818,-286.5 818,-242.5 818,-242.5 818,-236.5 824,-230.5 830,-230.5 830,-230.5 922,-230.5 922,-230.5 928,-230.5 934,-236.5 934,-242.5 934,-242.5 934,-286.5 934,-286.5 934,-292.5 928,-298.5 922,-298.5\"/>\n<text text-anchor=\"middle\" x=\"876\" y=\"-283.3\" font-family=\"Helvetica,sans-Serif\" font-size=\"14.00\" fill=\"#000000\">entropy = 0.99</text>\n<text text-anchor=\"middle\" x=\"876\" y=\"-268.3\" font-family=\"Helvetica,sans-Serif\" font-size=\"14.00\" fill=\"#000000\">samples = 38</text>\n<text text-anchor=\"middle\" x=\"876\" y=\"-253.3\" font-family=\"Helvetica,sans-Serif\" font-size=\"14.00\" fill=\"#000000\">value = [21, 17]</text>\n<text text-anchor=\"middle\" x=\"876\" y=\"-238.3\" font-family=\"Helvetica,sans-Serif\" font-size=\"14.00\" fill=\"#000000\">class = 0</text>\n</g>\n<!-- 7&#45;&gt;20 -->\n<g id=\"edge20\" class=\"edge\">\n<title>7&#45;&gt;20</title>\n<path fill=\"none\" stroke=\"#000000\" d=\"M773.2607,-341.8796C789.2503,-329.8368 806.6703,-316.7167 822.5474,-304.7586\"/>\n<polygon fill=\"#000000\" stroke=\"#000000\" points=\"824.8116,-307.435 830.6938,-298.623 820.6002,-301.8435 824.8116,-307.435\"/>\n</g>\n<!-- 27 -->\n<g id=\"node19\" class=\"node\">\n<title>27</title>\n<path fill=\"#e89051\" stroke=\"#000000\" d=\"M634,-179.5C634,-179.5 548,-179.5 548,-179.5 542,-179.5 536,-173.5 536,-167.5 536,-167.5 536,-123.5 536,-123.5 536,-117.5 542,-111.5 548,-111.5 548,-111.5 634,-111.5 634,-111.5 640,-111.5 646,-117.5 646,-123.5 646,-123.5 646,-167.5 646,-167.5 646,-173.5 640,-179.5 634,-179.5\"/>\n<text text-anchor=\"middle\" x=\"591\" y=\"-164.3\" font-family=\"Helvetica,sans-Serif\" font-size=\"14.00\" fill=\"#000000\">entropy = 0.49</text>\n<text text-anchor=\"middle\" x=\"591\" y=\"-149.3\" font-family=\"Helvetica,sans-Serif\" font-size=\"14.00\" fill=\"#000000\">samples = 28</text>\n<text text-anchor=\"middle\" x=\"591\" y=\"-134.3\" font-family=\"Helvetica,sans-Serif\" font-size=\"14.00\" fill=\"#000000\">value = [25, 3]</text>\n<text text-anchor=\"middle\" x=\"591\" y=\"-119.3\" font-family=\"Helvetica,sans-Serif\" font-size=\"14.00\" fill=\"#000000\">class = 0</text>\n</g>\n<!-- 19&#45;&gt;27 -->\n<g id=\"edge18\" class=\"edge\">\n<title>19&#45;&gt;27</title>\n<path fill=\"none\" stroke=\"#000000\" d=\"M673.5816,-222.8796C661.1421,-211.2237 647.6257,-198.5587 635.199,-186.9148\"/>\n<polygon fill=\"#000000\" stroke=\"#000000\" points=\"637.3121,-184.0985 627.6218,-179.8149 632.5259,-189.2065 637.3121,-184.0985\"/>\n</g>\n<!-- 28 -->\n<g id=\"node20\" class=\"node\">\n<title>28</title>\n<path fill=\"#f0b68c\" stroke=\"#000000\" d=\"M762,-179.5C762,-179.5 676,-179.5 676,-179.5 670,-179.5 664,-173.5 664,-167.5 664,-167.5 664,-123.5 664,-123.5 664,-117.5 670,-111.5 676,-111.5 676,-111.5 762,-111.5 762,-111.5 768,-111.5 774,-117.5 774,-123.5 774,-123.5 774,-167.5 774,-167.5 774,-173.5 768,-179.5 762,-179.5\"/>\n<text text-anchor=\"middle\" x=\"719\" y=\"-164.3\" font-family=\"Helvetica,sans-Serif\" font-size=\"14.00\" fill=\"#000000\">entropy = 0.88</text>\n<text text-anchor=\"middle\" x=\"719\" y=\"-149.3\" font-family=\"Helvetica,sans-Serif\" font-size=\"14.00\" fill=\"#000000\">samples = 27</text>\n<text text-anchor=\"middle\" x=\"719\" y=\"-134.3\" font-family=\"Helvetica,sans-Serif\" font-size=\"14.00\" fill=\"#000000\">value = [19, 8]</text>\n<text text-anchor=\"middle\" x=\"719\" y=\"-119.3\" font-family=\"Helvetica,sans-Serif\" font-size=\"14.00\" fill=\"#000000\">class = 0</text>\n</g>\n<!-- 19&#45;&gt;28 -->\n<g id=\"edge19\" class=\"edge\">\n<title>19&#45;&gt;28</title>\n<path fill=\"none\" stroke=\"#000000\" d=\"M718.3498,-222.8796C718.4394,-212.2134 718.5361,-200.7021 718.6269,-189.9015\"/>\n<polygon fill=\"#000000\" stroke=\"#000000\" points=\"722.1274,-189.844 718.7116,-179.8149 715.1276,-189.7851 722.1274,-189.844\"/>\n</g>\n<!-- 11 -->\n<g id=\"node23\" class=\"node\">\n<title>11</title>\n<path fill=\"#f9e2d2\" stroke=\"#000000\" d=\"M1056,-306C1056,-306 964,-306 964,-306 958,-306 952,-300 952,-294 952,-294 952,-235 952,-235 952,-229 958,-223 964,-223 964,-223 1056,-223 1056,-223 1062,-223 1068,-229 1068,-235 1068,-235 1068,-294 1068,-294 1068,-300 1062,-306 1056,-306\"/>\n<text text-anchor=\"middle\" x=\"1010\" y=\"-290.8\" font-family=\"Helvetica,sans-Serif\" font-size=\"14.00\" fill=\"#000000\">BMI &lt;= 33.0</text>\n<text text-anchor=\"middle\" x=\"1010\" y=\"-275.8\" font-family=\"Helvetica,sans-Serif\" font-size=\"14.00\" fill=\"#000000\">entropy = 0.99</text>\n<text text-anchor=\"middle\" x=\"1010\" y=\"-260.8\" font-family=\"Helvetica,sans-Serif\" font-size=\"14.00\" fill=\"#000000\">samples = 85</text>\n<text text-anchor=\"middle\" x=\"1010\" y=\"-245.8\" font-family=\"Helvetica,sans-Serif\" font-size=\"14.00\" fill=\"#000000\">value = [48, 37]</text>\n<text text-anchor=\"middle\" x=\"1010\" y=\"-230.8\" font-family=\"Helvetica,sans-Serif\" font-size=\"14.00\" fill=\"#000000\">class = 0</text>\n</g>\n<!-- 8&#45;&gt;11 -->\n<g id=\"edge22\" class=\"edge\">\n<title>8&#45;&gt;11</title>\n<path fill=\"none\" stroke=\"#000000\" d=\"M1010,-341.8796C1010,-333.6838 1010,-324.9891 1010,-316.5013\"/>\n<polygon fill=\"#000000\" stroke=\"#000000\" points=\"1013.5001,-316.298 1010,-306.2981 1006.5001,-316.2981 1013.5001,-316.298\"/>\n</g>\n<!-- 12 -->\n<g id=\"node30\" class=\"node\">\n<title>12</title>\n<path fill=\"#97ccf1\" stroke=\"#000000\" d=\"M1212,-306C1212,-306 1120,-306 1120,-306 1114,-306 1108,-300 1108,-294 1108,-294 1108,-235 1108,-235 1108,-229 1114,-223 1120,-223 1120,-223 1212,-223 1212,-223 1218,-223 1224,-229 1224,-235 1224,-235 1224,-294 1224,-294 1224,-300 1218,-306 1212,-306\"/>\n<text text-anchor=\"middle\" x=\"1166\" y=\"-290.8\" font-family=\"Helvetica,sans-Serif\" font-size=\"14.00\" fill=\"#000000\">BMI &lt;= 31.4</text>\n<text text-anchor=\"middle\" x=\"1166\" y=\"-275.8\" font-family=\"Helvetica,sans-Serif\" font-size=\"14.00\" fill=\"#000000\">entropy = 0.91</text>\n<text text-anchor=\"middle\" x=\"1166\" y=\"-260.8\" font-family=\"Helvetica,sans-Serif\" font-size=\"14.00\" fill=\"#000000\">samples = 59</text>\n<text text-anchor=\"middle\" x=\"1166\" y=\"-245.8\" font-family=\"Helvetica,sans-Serif\" font-size=\"14.00\" fill=\"#000000\">value = [19, 40]</text>\n<text text-anchor=\"middle\" x=\"1166\" y=\"-230.8\" font-family=\"Helvetica,sans-Serif\" font-size=\"14.00\" fill=\"#000000\">class = 1</text>\n</g>\n<!-- 8&#45;&gt;12 -->\n<g id=\"edge29\" class=\"edge\">\n<title>8&#45;&gt;12</title>\n<path fill=\"none\" stroke=\"#000000\" d=\"M1064.5612,-341.8796C1077.0302,-332.368 1090.3802,-322.1843 1103.1648,-312.432\"/>\n<polygon fill=\"#000000\" stroke=\"#000000\" points=\"1105.6415,-314.9448 1111.4696,-306.0969 1101.396,-309.3792 1105.6415,-314.9448\"/>\n</g>\n<!-- 29 -->\n<g id=\"node24\" class=\"node\">\n<title>29</title>\n<path fill=\"#ecf6fd\" stroke=\"#000000\" d=\"M897,-187C897,-187 805,-187 805,-187 799,-187 793,-181 793,-175 793,-175 793,-116 793,-116 793,-110 799,-104 805,-104 805,-104 897,-104 897,-104 903,-104 909,-110 909,-116 909,-116 909,-175 909,-175 909,-181 903,-187 897,-187\"/>\n<text text-anchor=\"middle\" x=\"851\" y=\"-171.8\" font-family=\"Helvetica,sans-Serif\" font-size=\"14.00\" fill=\"#000000\">Age &lt;= 37.5</text>\n<text text-anchor=\"middle\" x=\"851\" y=\"-156.8\" font-family=\"Helvetica,sans-Serif\" font-size=\"14.00\" fill=\"#000000\">entropy = 1.0</text>\n<text text-anchor=\"middle\" x=\"851\" y=\"-141.8\" font-family=\"Helvetica,sans-Serif\" font-size=\"14.00\" fill=\"#000000\">samples = 40</text>\n<text text-anchor=\"middle\" x=\"851\" y=\"-126.8\" font-family=\"Helvetica,sans-Serif\" font-size=\"14.00\" fill=\"#000000\">value = [19, 21]</text>\n<text text-anchor=\"middle\" x=\"851\" y=\"-111.8\" font-family=\"Helvetica,sans-Serif\" font-size=\"14.00\" fill=\"#000000\">class = 1</text>\n</g>\n<!-- 11&#45;&gt;29 -->\n<g id=\"edge23\" class=\"edge\">\n<title>11&#45;&gt;29</title>\n<path fill=\"none\" stroke=\"#000000\" d=\"M954.3895,-222.8796C941.5597,-213.2774 927.8148,-202.9903 914.6714,-193.1534\"/>\n<polygon fill=\"#000000\" stroke=\"#000000\" points=\"916.6823,-190.2868 906.5791,-187.0969 912.4879,-195.891 916.6823,-190.2868\"/>\n</g>\n<!-- 30 -->\n<g id=\"node27\" class=\"node\">\n<title>30</title>\n<path fill=\"#f3c7a6\" stroke=\"#000000\" d=\"M1080.5,-187C1080.5,-187 939.5,-187 939.5,-187 933.5,-187 927.5,-181 927.5,-175 927.5,-175 927.5,-116 927.5,-116 927.5,-110 933.5,-104 939.5,-104 939.5,-104 1080.5,-104 1080.5,-104 1086.5,-104 1092.5,-110 1092.5,-116 1092.5,-116 1092.5,-175 1092.5,-175 1092.5,-181 1086.5,-187 1080.5,-187\"/>\n<text text-anchor=\"middle\" x=\"1010\" y=\"-171.8\" font-family=\"Helvetica,sans-Serif\" font-size=\"14.00\" fill=\"#000000\">BloodPressure &lt;= 77.0</text>\n<text text-anchor=\"middle\" x=\"1010\" y=\"-156.8\" font-family=\"Helvetica,sans-Serif\" font-size=\"14.00\" fill=\"#000000\">entropy = 0.94</text>\n<text text-anchor=\"middle\" x=\"1010\" y=\"-141.8\" font-family=\"Helvetica,sans-Serif\" font-size=\"14.00\" fill=\"#000000\">samples = 45</text>\n<text text-anchor=\"middle\" x=\"1010\" y=\"-126.8\" font-family=\"Helvetica,sans-Serif\" font-size=\"14.00\" fill=\"#000000\">value = [29, 16]</text>\n<text text-anchor=\"middle\" x=\"1010\" y=\"-111.8\" font-family=\"Helvetica,sans-Serif\" font-size=\"14.00\" fill=\"#000000\">class = 0</text>\n</g>\n<!-- 11&#45;&gt;30 -->\n<g id=\"edge26\" class=\"edge\">\n<title>11&#45;&gt;30</title>\n<path fill=\"none\" stroke=\"#000000\" d=\"M1010,-222.8796C1010,-214.6838 1010,-205.9891 1010,-197.5013\"/>\n<polygon fill=\"#000000\" stroke=\"#000000\" points=\"1013.5001,-197.298 1010,-187.2981 1006.5001,-197.2981 1013.5001,-197.298\"/>\n</g>\n<!-- 35 -->\n<g id=\"node25\" class=\"node\">\n<title>35</title>\n<path fill=\"#dbedfa\" stroke=\"#000000\" d=\"M770,-68C770,-68 684,-68 684,-68 678,-68 672,-62 672,-56 672,-56 672,-12 672,-12 672,-6 678,0 684,0 684,0 770,0 770,0 776,0 782,-6 782,-12 782,-12 782,-56 782,-56 782,-62 776,-68 770,-68\"/>\n<text text-anchor=\"middle\" x=\"727\" y=\"-52.8\" font-family=\"Helvetica,sans-Serif\" font-size=\"14.00\" fill=\"#000000\">entropy = 0.99</text>\n<text text-anchor=\"middle\" x=\"727\" y=\"-37.8\" font-family=\"Helvetica,sans-Serif\" font-size=\"14.00\" fill=\"#000000\">samples = 20</text>\n<text text-anchor=\"middle\" x=\"727\" y=\"-22.8\" font-family=\"Helvetica,sans-Serif\" font-size=\"14.00\" fill=\"#000000\">value = [9, 11]</text>\n<text text-anchor=\"middle\" x=\"727\" y=\"-7.8\" font-family=\"Helvetica,sans-Serif\" font-size=\"14.00\" fill=\"#000000\">class = 1</text>\n</g>\n<!-- 29&#45;&gt;35 -->\n<g id=\"edge24\" class=\"edge\">\n<title>29&#45;&gt;35</title>\n<path fill=\"none\" stroke=\"#000000\" d=\"M804.827,-103.9815C794.2993,-94.5151 783.1192,-84.462 772.6151,-75.0168\"/>\n<polygon fill=\"#000000\" stroke=\"#000000\" points=\"774.8811,-72.3475 765.1049,-68.2637 770.2006,-77.5526 774.8811,-72.3475\"/>\n</g>\n<!-- 36 -->\n<g id=\"node26\" class=\"node\">\n<title>36</title>\n<path fill=\"#ffffff\" stroke=\"#000000\" d=\"M904,-68C904,-68 812,-68 812,-68 806,-68 800,-62 800,-56 800,-56 800,-12 800,-12 800,-6 806,0 812,0 812,0 904,0 904,0 910,0 916,-6 916,-12 916,-12 916,-56 916,-56 916,-62 910,-68 904,-68\"/>\n<text text-anchor=\"middle\" x=\"858\" y=\"-52.8\" font-family=\"Helvetica,sans-Serif\" font-size=\"14.00\" fill=\"#000000\">entropy = 1.0</text>\n<text text-anchor=\"middle\" x=\"858\" y=\"-37.8\" font-family=\"Helvetica,sans-Serif\" font-size=\"14.00\" fill=\"#000000\">samples = 20</text>\n<text text-anchor=\"middle\" x=\"858\" y=\"-22.8\" font-family=\"Helvetica,sans-Serif\" font-size=\"14.00\" fill=\"#000000\">value = [10, 10]</text>\n<text text-anchor=\"middle\" x=\"858\" y=\"-7.8\" font-family=\"Helvetica,sans-Serif\" font-size=\"14.00\" fill=\"#000000\">class = 0</text>\n</g>\n<!-- 29&#45;&gt;36 -->\n<g id=\"edge25\" class=\"edge\">\n<title>29&#45;&gt;36</title>\n<path fill=\"none\" stroke=\"#000000\" d=\"M853.6065,-103.9815C854.1316,-95.618 854.6854,-86.7965 855.2163,-78.3409\"/>\n<polygon fill=\"#000000\" stroke=\"#000000\" points=\"858.7154,-78.4634 855.8489,-68.2637 851.7291,-78.0247 858.7154,-78.4634\"/>\n</g>\n<!-- 31 -->\n<g id=\"node28\" class=\"node\">\n<title>31</title>\n<path fill=\"#eeab7b\" stroke=\"#000000\" d=\"M1046,-68C1046,-68 960,-68 960,-68 954,-68 948,-62 948,-56 948,-56 948,-12 948,-12 948,-6 954,0 960,0 960,0 1046,0 1046,0 1052,0 1058,-6 1058,-12 1058,-12 1058,-56 1058,-56 1058,-62 1052,-68 1046,-68\"/>\n<text text-anchor=\"middle\" x=\"1003\" y=\"-52.8\" font-family=\"Helvetica,sans-Serif\" font-size=\"14.00\" fill=\"#000000\">entropy = 0.81</text>\n<text text-anchor=\"middle\" x=\"1003\" y=\"-37.8\" font-family=\"Helvetica,sans-Serif\" font-size=\"14.00\" fill=\"#000000\">samples = 24</text>\n<text text-anchor=\"middle\" x=\"1003\" y=\"-22.8\" font-family=\"Helvetica,sans-Serif\" font-size=\"14.00\" fill=\"#000000\">value = [18, 6]</text>\n<text text-anchor=\"middle\" x=\"1003\" y=\"-7.8\" font-family=\"Helvetica,sans-Serif\" font-size=\"14.00\" fill=\"#000000\">class = 0</text>\n</g>\n<!-- 30&#45;&gt;31 -->\n<g id=\"edge27\" class=\"edge\">\n<title>30&#45;&gt;31</title>\n<path fill=\"none\" stroke=\"#000000\" d=\"M1007.3935,-103.9815C1006.8684,-95.618 1006.3146,-86.7965 1005.7837,-78.3409\"/>\n<polygon fill=\"#000000\" stroke=\"#000000\" points=\"1009.2709,-78.0247 1005.1511,-68.2637 1002.2846,-78.4634 1009.2709,-78.0247\"/>\n</g>\n<!-- 32 -->\n<g id=\"node29\" class=\"node\">\n<title>32</title>\n<path fill=\"#fdf4ed\" stroke=\"#000000\" d=\"M1180,-68C1180,-68 1088,-68 1088,-68 1082,-68 1076,-62 1076,-56 1076,-56 1076,-12 1076,-12 1076,-6 1082,0 1088,0 1088,0 1180,0 1180,0 1186,0 1192,-6 1192,-12 1192,-12 1192,-56 1192,-56 1192,-62 1186,-68 1180,-68\"/>\n<text text-anchor=\"middle\" x=\"1134\" y=\"-52.8\" font-family=\"Helvetica,sans-Serif\" font-size=\"14.00\" fill=\"#000000\">entropy = 1.0</text>\n<text text-anchor=\"middle\" x=\"1134\" y=\"-37.8\" font-family=\"Helvetica,sans-Serif\" font-size=\"14.00\" fill=\"#000000\">samples = 21</text>\n<text text-anchor=\"middle\" x=\"1134\" y=\"-22.8\" font-family=\"Helvetica,sans-Serif\" font-size=\"14.00\" fill=\"#000000\">value = [11, 10]</text>\n<text text-anchor=\"middle\" x=\"1134\" y=\"-7.8\" font-family=\"Helvetica,sans-Serif\" font-size=\"14.00\" fill=\"#000000\">class = 0</text>\n</g>\n<!-- 30&#45;&gt;32 -->\n<g id=\"edge28\" class=\"edge\">\n<title>30&#45;&gt;32</title>\n<path fill=\"none\" stroke=\"#000000\" d=\"M1056.173,-103.9815C1066.7007,-94.5151 1077.8808,-84.462 1088.3849,-75.0168\"/>\n<polygon fill=\"#000000\" stroke=\"#000000\" points=\"1090.7994,-77.5526 1095.8951,-68.2637 1086.1189,-72.3475 1090.7994,-77.5526\"/>\n</g>\n<!-- 15 -->\n<g id=\"node31\" class=\"node\">\n<title>15</title>\n<path fill=\"#fae8db\" stroke=\"#000000\" d=\"M1209,-179.5C1209,-179.5 1123,-179.5 1123,-179.5 1117,-179.5 1111,-173.5 1111,-167.5 1111,-167.5 1111,-123.5 1111,-123.5 1111,-117.5 1117,-111.5 1123,-111.5 1123,-111.5 1209,-111.5 1209,-111.5 1215,-111.5 1221,-117.5 1221,-123.5 1221,-123.5 1221,-167.5 1221,-167.5 1221,-173.5 1215,-179.5 1209,-179.5\"/>\n<text text-anchor=\"middle\" x=\"1166\" y=\"-164.3\" font-family=\"Helvetica,sans-Serif\" font-size=\"14.00\" fill=\"#000000\">entropy = 0.99</text>\n<text text-anchor=\"middle\" x=\"1166\" y=\"-149.3\" font-family=\"Helvetica,sans-Serif\" font-size=\"14.00\" fill=\"#000000\">samples = 20</text>\n<text text-anchor=\"middle\" x=\"1166\" y=\"-134.3\" font-family=\"Helvetica,sans-Serif\" font-size=\"14.00\" fill=\"#000000\">value = [11, 9]</text>\n<text text-anchor=\"middle\" x=\"1166\" y=\"-119.3\" font-family=\"Helvetica,sans-Serif\" font-size=\"14.00\" fill=\"#000000\">class = 0</text>\n</g>\n<!-- 12&#45;&gt;15 -->\n<g id=\"edge30\" class=\"edge\">\n<title>12&#45;&gt;15</title>\n<path fill=\"none\" stroke=\"#000000\" d=\"M1166,-222.8796C1166,-212.2134 1166,-200.7021 1166,-189.9015\"/>\n<polygon fill=\"#000000\" stroke=\"#000000\" points=\"1169.5001,-189.8149 1166,-179.8149 1162.5001,-189.815 1169.5001,-189.8149\"/>\n</g>\n<!-- 16 -->\n<g id=\"node32\" class=\"node\">\n<title>16</title>\n<path fill=\"#6cb6ec\" stroke=\"#000000\" d=\"M1337,-179.5C1337,-179.5 1251,-179.5 1251,-179.5 1245,-179.5 1239,-173.5 1239,-167.5 1239,-167.5 1239,-123.5 1239,-123.5 1239,-117.5 1245,-111.5 1251,-111.5 1251,-111.5 1337,-111.5 1337,-111.5 1343,-111.5 1349,-117.5 1349,-123.5 1349,-123.5 1349,-167.5 1349,-167.5 1349,-173.5 1343,-179.5 1337,-179.5\"/>\n<text text-anchor=\"middle\" x=\"1294\" y=\"-164.3\" font-family=\"Helvetica,sans-Serif\" font-size=\"14.00\" fill=\"#000000\">entropy = 0.73</text>\n<text text-anchor=\"middle\" x=\"1294\" y=\"-149.3\" font-family=\"Helvetica,sans-Serif\" font-size=\"14.00\" fill=\"#000000\">samples = 39</text>\n<text text-anchor=\"middle\" x=\"1294\" y=\"-134.3\" font-family=\"Helvetica,sans-Serif\" font-size=\"14.00\" fill=\"#000000\">value = [8, 31]</text>\n<text text-anchor=\"middle\" x=\"1294\" y=\"-119.3\" font-family=\"Helvetica,sans-Serif\" font-size=\"14.00\" fill=\"#000000\">class = 1</text>\n</g>\n<!-- 12&#45;&gt;16 -->\n<g id=\"edge31\" class=\"edge\">\n<title>12&#45;&gt;16</title>\n<path fill=\"none\" stroke=\"#000000\" d=\"M1210.7682,-222.8796C1223.3056,-211.2237 1236.9284,-198.5587 1249.453,-186.9148\"/>\n<polygon fill=\"#000000\" stroke=\"#000000\" points=\"1252.1491,-189.1872 1257.0898,-179.8149 1247.3828,-184.0605 1252.1491,-189.1872\"/>\n</g>\n<!-- 13 -->\n<g id=\"node34\" class=\"node\">\n<title>13</title>\n<path fill=\"#add7f4\" stroke=\"#000000\" d=\"M757,-655.5C757,-655.5 665,-655.5 665,-655.5 659,-655.5 653,-649.5 653,-643.5 653,-643.5 653,-599.5 653,-599.5 653,-593.5 659,-587.5 665,-587.5 665,-587.5 757,-587.5 757,-587.5 763,-587.5 769,-593.5 769,-599.5 769,-599.5 769,-643.5 769,-643.5 769,-649.5 763,-655.5 757,-655.5\"/>\n<text text-anchor=\"middle\" x=\"711\" y=\"-640.3\" font-family=\"Helvetica,sans-Serif\" font-size=\"14.00\" fill=\"#000000\">entropy = 0.95</text>\n<text text-anchor=\"middle\" x=\"711\" y=\"-625.3\" font-family=\"Helvetica,sans-Serif\" font-size=\"14.00\" fill=\"#000000\">samples = 27</text>\n<text text-anchor=\"middle\" x=\"711\" y=\"-610.3\" font-family=\"Helvetica,sans-Serif\" font-size=\"14.00\" fill=\"#000000\">value = [10, 17]</text>\n<text text-anchor=\"middle\" x=\"711\" y=\"-595.3\" font-family=\"Helvetica,sans-Serif\" font-size=\"14.00\" fill=\"#000000\">class = 1</text>\n</g>\n<!-- 2&#45;&gt;13 -->\n<g id=\"edge33\" class=\"edge\">\n<title>2&#45;&gt;13</title>\n<path fill=\"none\" stroke=\"#000000\" d=\"M711,-698.8796C711,-688.2134 711,-676.7021 711,-665.9015\"/>\n<polygon fill=\"#000000\" stroke=\"#000000\" points=\"714.5001,-665.8149 711,-655.8149 707.5001,-665.815 714.5001,-665.8149\"/>\n</g>\n<!-- 14 -->\n<g id=\"node35\" class=\"node\">\n<title>14</title>\n<path fill=\"#51a9e8\" stroke=\"#000000\" d=\"M897.5,-663C897.5,-663 802.5,-663 802.5,-663 796.5,-663 790.5,-657 790.5,-651 790.5,-651 790.5,-592 790.5,-592 790.5,-586 796.5,-580 802.5,-580 802.5,-580 897.5,-580 897.5,-580 903.5,-580 909.5,-586 909.5,-592 909.5,-592 909.5,-651 909.5,-651 909.5,-657 903.5,-663 897.5,-663\"/>\n<text text-anchor=\"middle\" x=\"850\" y=\"-647.8\" font-family=\"Helvetica,sans-Serif\" font-size=\"14.00\" fill=\"#000000\">Insulin &lt;= 201.0</text>\n<text text-anchor=\"middle\" x=\"850\" y=\"-632.8\" font-family=\"Helvetica,sans-Serif\" font-size=\"14.00\" fill=\"#000000\">entropy = 0.49</text>\n<text text-anchor=\"middle\" x=\"850\" y=\"-617.8\" font-family=\"Helvetica,sans-Serif\" font-size=\"14.00\" fill=\"#000000\">samples = 56</text>\n<text text-anchor=\"middle\" x=\"850\" y=\"-602.8\" font-family=\"Helvetica,sans-Serif\" font-size=\"14.00\" fill=\"#000000\">value = [6, 50]</text>\n<text text-anchor=\"middle\" x=\"850\" y=\"-587.8\" font-family=\"Helvetica,sans-Serif\" font-size=\"14.00\" fill=\"#000000\">class = 1</text>\n</g>\n<!-- 2&#45;&gt;14 -->\n<g id=\"edge34\" class=\"edge\">\n<title>2&#45;&gt;14</title>\n<path fill=\"none\" stroke=\"#000000\" d=\"M759.6155,-698.8796C770.5562,-689.513 782.2582,-679.4948 793.4908,-669.8784\"/>\n<polygon fill=\"#000000\" stroke=\"#000000\" points=\"795.8568,-672.4603 801.177,-663.2981 791.3044,-667.1428 795.8568,-672.4603\"/>\n</g>\n<!-- 17 -->\n<g id=\"node36\" class=\"node\">\n<title>17</title>\n<path fill=\"#3fa0e6\" stroke=\"#000000\" d=\"M893,-536.5C893,-536.5 807,-536.5 807,-536.5 801,-536.5 795,-530.5 795,-524.5 795,-524.5 795,-480.5 795,-480.5 795,-474.5 801,-468.5 807,-468.5 807,-468.5 893,-468.5 893,-468.5 899,-468.5 905,-474.5 905,-480.5 905,-480.5 905,-524.5 905,-524.5 905,-530.5 899,-536.5 893,-536.5\"/>\n<text text-anchor=\"middle\" x=\"850\" y=\"-521.3\" font-family=\"Helvetica,sans-Serif\" font-size=\"14.00\" fill=\"#000000\">entropy = 0.18</text>\n<text text-anchor=\"middle\" x=\"850\" y=\"-506.3\" font-family=\"Helvetica,sans-Serif\" font-size=\"14.00\" fill=\"#000000\">samples = 36</text>\n<text text-anchor=\"middle\" x=\"850\" y=\"-491.3\" font-family=\"Helvetica,sans-Serif\" font-size=\"14.00\" fill=\"#000000\">value = [1, 35]</text>\n<text text-anchor=\"middle\" x=\"850\" y=\"-476.3\" font-family=\"Helvetica,sans-Serif\" font-size=\"14.00\" fill=\"#000000\">class = 1</text>\n</g>\n<!-- 14&#45;&gt;17 -->\n<g id=\"edge35\" class=\"edge\">\n<title>14&#45;&gt;17</title>\n<path fill=\"none\" stroke=\"#000000\" d=\"M850,-579.8796C850,-569.2134 850,-557.7021 850,-546.9015\"/>\n<polygon fill=\"#000000\" stroke=\"#000000\" points=\"853.5001,-546.8149 850,-536.8149 846.5001,-546.815 853.5001,-546.8149\"/>\n</g>\n<!-- 18 -->\n<g id=\"node37\" class=\"node\">\n<title>18</title>\n<path fill=\"#7bbeee\" stroke=\"#000000\" d=\"M1021,-536.5C1021,-536.5 935,-536.5 935,-536.5 929,-536.5 923,-530.5 923,-524.5 923,-524.5 923,-480.5 923,-480.5 923,-474.5 929,-468.5 935,-468.5 935,-468.5 1021,-468.5 1021,-468.5 1027,-468.5 1033,-474.5 1033,-480.5 1033,-480.5 1033,-524.5 1033,-524.5 1033,-530.5 1027,-536.5 1021,-536.5\"/>\n<text text-anchor=\"middle\" x=\"978\" y=\"-521.3\" font-family=\"Helvetica,sans-Serif\" font-size=\"14.00\" fill=\"#000000\">entropy = 0.81</text>\n<text text-anchor=\"middle\" x=\"978\" y=\"-506.3\" font-family=\"Helvetica,sans-Serif\" font-size=\"14.00\" fill=\"#000000\">samples = 20</text>\n<text text-anchor=\"middle\" x=\"978\" y=\"-491.3\" font-family=\"Helvetica,sans-Serif\" font-size=\"14.00\" fill=\"#000000\">value = [5, 15]</text>\n<text text-anchor=\"middle\" x=\"978\" y=\"-476.3\" font-family=\"Helvetica,sans-Serif\" font-size=\"14.00\" fill=\"#000000\">class = 1</text>\n</g>\n<!-- 14&#45;&gt;18 -->\n<g id=\"edge36\" class=\"edge\">\n<title>14&#45;&gt;18</title>\n<path fill=\"none\" stroke=\"#000000\" d=\"M894.7682,-579.8796C907.3056,-568.2237 920.9284,-555.5587 933.453,-543.9148\"/>\n<polygon fill=\"#000000\" stroke=\"#000000\" points=\"936.1491,-546.1872 941.0898,-536.8149 931.3828,-541.0605 936.1491,-546.1872\"/>\n</g>\n</g>\n</svg>\n"
          },
          "metadata": {},
          "execution_count": 12
        }
      ],
      "source": [
        "from sklearn.tree import export_graphviz\n",
        "import graphviz\n",
        "columns = list(x.columns)\n",
        "export_graphviz(clf, out_file='tree.dot', \n",
        "                feature_names=columns,\n",
        "                class_names=['0', '1'],\n",
        "                rounded = True, proportion = False, \n",
        "                precision = 2, filled = True, label='all')\n",
        "\n",
        "with open('tree.dot') as f:\n",
        "    dot_graph = f.read()\n",
        "\n",
        "graphviz.Source(dot_graph)"
      ]
    },
    {
      "cell_type": "markdown",
      "metadata": {
        "id": "UO_cgy61rsQ6"
      },
      "source": [
        "Output the depth of the tree:\n",
        "\n",
        "Выводим глубину дерева:"
      ]
    },
    {
      "cell_type": "code",
      "execution_count": 13,
      "metadata": {
        "colab": {
          "base_uri": "https://localhost:8080/"
        },
        "id": "4BdPjYeIrsQ6",
        "outputId": "9faec025-9ee6-4dec-8971-ef13aa624bbc"
      },
      "outputs": [
        {
          "output_type": "execute_result",
          "data": {
            "text/plain": [
              "7"
            ]
          },
          "metadata": {},
          "execution_count": 13
        }
      ],
      "source": [
        "clf.tree_.max_depth"
      ]
    },
    {
      "cell_type": "markdown",
      "metadata": {
        "id": "MLNv4rX4rsQ6"
      },
      "source": [
        "Making a prediction for objects from the test sample:\n",
        "\n",
        "Выполняем предсказание для объектов из тестовой выборки:"
      ]
    },
    {
      "cell_type": "code",
      "execution_count": 14,
      "metadata": {
        "id": "6t8mf_hGrsQ7"
      },
      "outputs": [],
      "source": [
        "features = list(test.columns[:8])\n",
        "x = test[features]\n",
        "y_true = test['Outcome']\n",
        "y_pred = clf.predict(x)"
      ]
    },
    {
      "cell_type": "markdown",
      "metadata": {
        "id": "2xB8q8CqrsQ7"
      },
      "source": [
        "The percentage of correct answers of the classifier:\n",
        "\n",
        "Доля правильных ответов классификатора:"
      ]
    },
    {
      "cell_type": "code",
      "execution_count": 15,
      "metadata": {
        "colab": {
          "base_uri": "https://localhost:8080/"
        },
        "id": "cL6rMWWhrsQ7",
        "outputId": "977e0c42-8d57-477e-b199-8d7823300c9f"
      },
      "outputs": [
        {
          "output_type": "execute_result",
          "data": {
            "text/plain": [
              "0.8"
            ]
          },
          "metadata": {},
          "execution_count": 15
        }
      ],
      "source": [
        "from sklearn.metrics import accuracy_score\n",
        "round(accuracy_score(y_true, y_pred), 1)"
      ]
    },
    {
      "cell_type": "markdown",
      "metadata": {
        "id": "oZrh8iDVrsQ8"
      },
      "source": [
        "Average value of $F_1$ metrics (Macro-F1):\n",
        "\n",
        "Среднее значение метрик $F_1$ (Macro-F1):"
      ]
    },
    {
      "cell_type": "code",
      "execution_count": 16,
      "metadata": {
        "colab": {
          "base_uri": "https://localhost:8080/"
        },
        "id": "tZRjGqtNrsQ8",
        "outputId": "87360fb5-6ba6-40b7-9910-4b220d732e6a"
      },
      "outputs": [
        {
          "output_type": "execute_result",
          "data": {
            "text/plain": [
              "0.73"
            ]
          },
          "metadata": {},
          "execution_count": 16
        }
      ],
      "source": [
        "from sklearn.metrics import f1_score\n",
        "round(f1_score(y_true, y_pred, average='macro'), 2)"
      ]
    },
    {
      "cell_type": "markdown",
      "metadata": {
        "id": "kY3HGB-ersQ9"
      },
      "source": [
        "Make a prediction for patients 743, 715, 740, 741 (line numbers are indicated, numbering from zero) from the initial data set.\n",
        "\n",
        "Выполните предсказание для пациентов 743, 715, 740, 741 (указаны номера строк, нумерация с нуля) из начального набора данных."
      ]
    },
    {
      "cell_type": "code",
      "execution_count": 18,
      "metadata": {
        "colab": {
          "base_uri": "https://localhost:8080/"
        },
        "id": "aiLhNr-irsQ9",
        "outputId": "37f30b4e-b13b-4aa8-d4b1-e44bc7026446"
      },
      "outputs": [
        {
          "output_type": "stream",
          "name": "stderr",
          "text": [
            "/usr/local/lib/python3.7/dist-packages/sklearn/base.py:451: UserWarning: X does not have valid feature names, but DecisionTreeClassifier was fitted with feature names\n",
            "  \"X does not have valid feature names, but\"\n"
          ]
        },
        {
          "output_type": "execute_result",
          "data": {
            "text/plain": [
              "1"
            ]
          },
          "metadata": {},
          "execution_count": 18
        }
      ],
      "source": [
        "clf.predict([df.loc[743, features].tolist()])[0]"
      ]
    },
    {
      "cell_type": "code",
      "execution_count": 19,
      "metadata": {
        "colab": {
          "base_uri": "https://localhost:8080/"
        },
        "id": "ihlqD1ewrsQ9",
        "outputId": "d1111cf5-5b54-4c35-98f8-6958f8edabd1"
      },
      "outputs": [
        {
          "output_type": "stream",
          "name": "stderr",
          "text": [
            "/usr/local/lib/python3.7/dist-packages/sklearn/base.py:451: UserWarning: X does not have valid feature names, but DecisionTreeClassifier was fitted with feature names\n",
            "  \"X does not have valid feature names, but\"\n"
          ]
        },
        {
          "output_type": "execute_result",
          "data": {
            "text/plain": [
              "1"
            ]
          },
          "metadata": {},
          "execution_count": 19
        }
      ],
      "source": [
        "clf.predict([df.loc[715, features].tolist()])[0]"
      ]
    },
    {
      "cell_type": "code",
      "source": [
        "clf.predict([df.loc[740, features].tolist()])[0]"
      ],
      "metadata": {
        "colab": {
          "base_uri": "https://localhost:8080/"
        },
        "id": "RyHaoCZW9KSG",
        "outputId": "25fb0c65-d94f-485a-9481-af2bf3b24a21"
      },
      "execution_count": 20,
      "outputs": [
        {
          "output_type": "stream",
          "name": "stderr",
          "text": [
            "/usr/local/lib/python3.7/dist-packages/sklearn/base.py:451: UserWarning: X does not have valid feature names, but DecisionTreeClassifier was fitted with feature names\n",
            "  \"X does not have valid feature names, but\"\n"
          ]
        },
        {
          "output_type": "execute_result",
          "data": {
            "text/plain": [
              "1"
            ]
          },
          "metadata": {},
          "execution_count": 20
        }
      ]
    },
    {
      "cell_type": "code",
      "source": [
        "clf.predict([df.loc[741, features].tolist()])[0]"
      ],
      "metadata": {
        "colab": {
          "base_uri": "https://localhost:8080/"
        },
        "id": "d79VECi89KyR",
        "outputId": "bb8c0d70-be18-4609-83d4-0bff3f8247c9"
      },
      "execution_count": 21,
      "outputs": [
        {
          "output_type": "stream",
          "name": "stderr",
          "text": [
            "/usr/local/lib/python3.7/dist-packages/sklearn/base.py:451: UserWarning: X does not have valid feature names, but DecisionTreeClassifier was fitted with feature names\n",
            "  \"X does not have valid feature names, but\"\n"
          ]
        },
        {
          "output_type": "execute_result",
          "data": {
            "text/plain": [
              "0"
            ]
          },
          "metadata": {},
          "execution_count": 21
        }
      ]
    }
  ],
  "metadata": {
    "kernelspec": {
      "display_name": "Python 3",
      "language": "python",
      "name": "python3"
    },
    "language_info": {
      "codemirror_mode": {
        "name": "ipython",
        "version": 3
      },
      "file_extension": ".py",
      "mimetype": "text/x-python",
      "name": "python",
      "nbconvert_exporter": "python",
      "pygments_lexer": "ipython3",
      "version": "3.5.4"
    },
    "colab": {
      "name": "6-decision-trees-(tpr).ipynb",
      "provenance": [],
      "collapsed_sections": []
    }
  },
  "nbformat": 4,
  "nbformat_minor": 0
}