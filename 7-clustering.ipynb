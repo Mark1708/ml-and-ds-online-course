{
  "cells": [
    {
      "cell_type": "markdown",
      "metadata": {
        "collapsed": true,
        "id": "LtBE5eq8Bvjx"
      },
      "source": [
        "# Task 1\n",
        "\n",
        "A table of some synthetic data is available to you, on the basis of which it is necessary to perform clustering on K = 3 clusters by the K-means method.\n",
        "\n",
        "Вам доступна таблица некоторых синтетических данных, на основании которых необходимо выполнить кластеризацию на K = 3 кластера методом К-средних."
      ]
    },
    {
      "cell_type": "code",
      "source": [
        "import os\n",
        "\n",
        "def load_data(data_dir, link):\n",
        "  if not (os.path.exists(data_dir)):\n",
        "    print('========= Downloading data ... =========')\n",
        "    os.system('wget ' + link + ' -O ' + data_dir + '.zip')\n",
        "    os.system('unzip ' + data_dir + '.zip' + ' -d ' + data_dir)\n",
        "    os.system('rm -rf ' + data_dir + '/__MACOSX')\n",
        "    os.system('rm ' + data_dir + '.zip')\n",
        "    print('=========       Success        =========')\n",
        "  else:\n",
        "    print('========= Data is already dowloaded =========')"
      ],
      "metadata": {
        "id": "5NdpC8p0jDoI"
      },
      "execution_count": null,
      "outputs": []
    },
    {
      "cell_type": "code",
      "source": [
        "data_dir1 = '/content/data'\n",
        "link1 = 'https://github.com/Mark1708/ml-and-ds-online-course/raw/main/data/clustering/kmeans.csv.zip'\n",
        "load_data(data_dir1, link1)"
      ],
      "metadata": {
        "id": "whWqUaeHjHuz"
      },
      "execution_count": null,
      "outputs": []
    },
    {
      "cell_type": "code",
      "execution_count": null,
      "metadata": {
        "id": "4wREtl6SBvj2"
      },
      "outputs": [],
      "source": [
        "#чтение данных, так как названия конфет уникальны, используем их в качестве индекса\n",
        "import numpy as np\n",
        "import pandas as pd\n",
        "DATA = pd.read_csv(data_dir1 + \"kmeans.csv\", delimiter=',', index_col='Object')"
      ]
    },
    {
      "cell_type": "code",
      "execution_count": null,
      "metadata": {
        "id": "6HGLWFyVBvj4"
      },
      "outputs": [],
      "source": [
        "#удаление столбца Cluster из набора данных\n",
        "coords = DATA.drop('Cluster', axis=1)"
      ]
    },
    {
      "cell_type": "code",
      "execution_count": null,
      "metadata": {
        "id": "j7PP5VJ1Bvj5"
      },
      "outputs": [],
      "source": [
        "#подключение KMeans из библиотеки sklearn\n",
        "from sklearn.cluster import KMeans"
      ]
    },
    {
      "cell_type": "markdown",
      "source": [
        "When performing a task using the sklearn library, use initial initialization with the following centroid coordinates and parameters: \n",
        "\n",
        "При выполнении задания с помощью библиотеки sklearn используйте начальную инициализацию со следующими координатами центроидов и параметрами:\n",
        "\n",
        "KMeans(n_clusters=3, init=np.array([[12.6, 8.8], [13.0, 12.6], [13.0, 11.8]]), max_iter=100, n_init=1)"
      ],
      "metadata": {
        "id": "Lh7VoRkIGXk3"
      }
    },
    {
      "cell_type": "code",
      "execution_count": null,
      "metadata": {
        "id": "uM45xPLKBvj5"
      },
      "outputs": [],
      "source": [
        "#координаты центроидов\n",
        "centroid = np.array([[12.6, 8.8], [13.0, 12.6], [13.0, 11.8]])"
      ]
    },
    {
      "cell_type": "code",
      "execution_count": null,
      "metadata": {
        "id": "aszp_e3_Bvj6"
      },
      "outputs": [],
      "source": [
        "#инициализация модели\n",
        "kmeans = KMeans(n_clusters=3, init=centroid, max_iter=100, n_init=1)"
      ]
    },
    {
      "cell_type": "code",
      "execution_count": null,
      "metadata": {
        "id": "rjI2KxyFBvj6"
      },
      "outputs": [],
      "source": [
        "#обучение модели на данных из coords\n",
        "model = kmeans.fit(coords)"
      ]
    },
    {
      "cell_type": "markdown",
      "source": [
        "Specify which cluster this or that object will be assigned to as a result of clustering (the task is counted only if all clusters are specified correctly).\n",
        "\n",
        "Укажите, к какому кластеру будет отнесен тот или иной объект в результате кластеризации (задание засчитывается только в том случае, если все кластеры указаны верно).\n",
        "\n"
      ],
      "metadata": {
        "id": "tz0QvU2PGavp"
      }
    },
    {
      "cell_type": "code",
      "execution_count": null,
      "metadata": {
        "colab": {
          "base_uri": "https://localhost:8080/",
          "height": 551
        },
        "id": "VHRQ3K_MBvj7",
        "outputId": "d0247370-ea31-46e2-9954-318817da55f7"
      },
      "outputs": [
        {
          "output_type": "execute_result",
          "data": {
            "text/plain": [
              "         X   Y  Cluster\n",
              "Object                 \n",
              "1       15   1        0\n",
              "2        9   9        0\n",
              "3       13  14        1\n",
              "4       15  18        1\n",
              "5        3  18        1\n",
              "6       12   5        0\n",
              "7       15   2        0\n",
              "8        6   7        0\n",
              "9       13  12        2\n",
              "10      14  20        1\n",
              "11      18   9        2\n",
              "12      16  11        2\n",
              "13       9  13        1\n",
              "14      18   8        2\n",
              "15      17  19        1"
            ],
            "text/html": [
              "\n",
              "  <div id=\"df-0eadac8c-2d35-45d2-8e81-3e5273b17bec\">\n",
              "    <div class=\"colab-df-container\">\n",
              "      <div>\n",
              "<style scoped>\n",
              "    .dataframe tbody tr th:only-of-type {\n",
              "        vertical-align: middle;\n",
              "    }\n",
              "\n",
              "    .dataframe tbody tr th {\n",
              "        vertical-align: top;\n",
              "    }\n",
              "\n",
              "    .dataframe thead th {\n",
              "        text-align: right;\n",
              "    }\n",
              "</style>\n",
              "<table border=\"1\" class=\"dataframe\">\n",
              "  <thead>\n",
              "    <tr style=\"text-align: right;\">\n",
              "      <th></th>\n",
              "      <th>X</th>\n",
              "      <th>Y</th>\n",
              "      <th>Cluster</th>\n",
              "    </tr>\n",
              "    <tr>\n",
              "      <th>Object</th>\n",
              "      <th></th>\n",
              "      <th></th>\n",
              "      <th></th>\n",
              "    </tr>\n",
              "  </thead>\n",
              "  <tbody>\n",
              "    <tr>\n",
              "      <th>1</th>\n",
              "      <td>15</td>\n",
              "      <td>1</td>\n",
              "      <td>0</td>\n",
              "    </tr>\n",
              "    <tr>\n",
              "      <th>2</th>\n",
              "      <td>9</td>\n",
              "      <td>9</td>\n",
              "      <td>0</td>\n",
              "    </tr>\n",
              "    <tr>\n",
              "      <th>3</th>\n",
              "      <td>13</td>\n",
              "      <td>14</td>\n",
              "      <td>1</td>\n",
              "    </tr>\n",
              "    <tr>\n",
              "      <th>4</th>\n",
              "      <td>15</td>\n",
              "      <td>18</td>\n",
              "      <td>1</td>\n",
              "    </tr>\n",
              "    <tr>\n",
              "      <th>5</th>\n",
              "      <td>3</td>\n",
              "      <td>18</td>\n",
              "      <td>1</td>\n",
              "    </tr>\n",
              "    <tr>\n",
              "      <th>6</th>\n",
              "      <td>12</td>\n",
              "      <td>5</td>\n",
              "      <td>0</td>\n",
              "    </tr>\n",
              "    <tr>\n",
              "      <th>7</th>\n",
              "      <td>15</td>\n",
              "      <td>2</td>\n",
              "      <td>0</td>\n",
              "    </tr>\n",
              "    <tr>\n",
              "      <th>8</th>\n",
              "      <td>6</td>\n",
              "      <td>7</td>\n",
              "      <td>0</td>\n",
              "    </tr>\n",
              "    <tr>\n",
              "      <th>9</th>\n",
              "      <td>13</td>\n",
              "      <td>12</td>\n",
              "      <td>2</td>\n",
              "    </tr>\n",
              "    <tr>\n",
              "      <th>10</th>\n",
              "      <td>14</td>\n",
              "      <td>20</td>\n",
              "      <td>1</td>\n",
              "    </tr>\n",
              "    <tr>\n",
              "      <th>11</th>\n",
              "      <td>18</td>\n",
              "      <td>9</td>\n",
              "      <td>2</td>\n",
              "    </tr>\n",
              "    <tr>\n",
              "      <th>12</th>\n",
              "      <td>16</td>\n",
              "      <td>11</td>\n",
              "      <td>2</td>\n",
              "    </tr>\n",
              "    <tr>\n",
              "      <th>13</th>\n",
              "      <td>9</td>\n",
              "      <td>13</td>\n",
              "      <td>1</td>\n",
              "    </tr>\n",
              "    <tr>\n",
              "      <th>14</th>\n",
              "      <td>18</td>\n",
              "      <td>8</td>\n",
              "      <td>2</td>\n",
              "    </tr>\n",
              "    <tr>\n",
              "      <th>15</th>\n",
              "      <td>17</td>\n",
              "      <td>19</td>\n",
              "      <td>1</td>\n",
              "    </tr>\n",
              "  </tbody>\n",
              "</table>\n",
              "</div>\n",
              "      <button class=\"colab-df-convert\" onclick=\"convertToInteractive('df-0eadac8c-2d35-45d2-8e81-3e5273b17bec')\"\n",
              "              title=\"Convert this dataframe to an interactive table.\"\n",
              "              style=\"display:none;\">\n",
              "        \n",
              "  <svg xmlns=\"http://www.w3.org/2000/svg\" height=\"24px\"viewBox=\"0 0 24 24\"\n",
              "       width=\"24px\">\n",
              "    <path d=\"M0 0h24v24H0V0z\" fill=\"none\"/>\n",
              "    <path d=\"M18.56 5.44l.94 2.06.94-2.06 2.06-.94-2.06-.94-.94-2.06-.94 2.06-2.06.94zm-11 1L8.5 8.5l.94-2.06 2.06-.94-2.06-.94L8.5 2.5l-.94 2.06-2.06.94zm10 10l.94 2.06.94-2.06 2.06-.94-2.06-.94-.94-2.06-.94 2.06-2.06.94z\"/><path d=\"M17.41 7.96l-1.37-1.37c-.4-.4-.92-.59-1.43-.59-.52 0-1.04.2-1.43.59L10.3 9.45l-7.72 7.72c-.78.78-.78 2.05 0 2.83L4 21.41c.39.39.9.59 1.41.59.51 0 1.02-.2 1.41-.59l7.78-7.78 2.81-2.81c.8-.78.8-2.07 0-2.86zM5.41 20L4 18.59l7.72-7.72 1.47 1.35L5.41 20z\"/>\n",
              "  </svg>\n",
              "      </button>\n",
              "      \n",
              "  <style>\n",
              "    .colab-df-container {\n",
              "      display:flex;\n",
              "      flex-wrap:wrap;\n",
              "      gap: 12px;\n",
              "    }\n",
              "\n",
              "    .colab-df-convert {\n",
              "      background-color: #E8F0FE;\n",
              "      border: none;\n",
              "      border-radius: 50%;\n",
              "      cursor: pointer;\n",
              "      display: none;\n",
              "      fill: #1967D2;\n",
              "      height: 32px;\n",
              "      padding: 0 0 0 0;\n",
              "      width: 32px;\n",
              "    }\n",
              "\n",
              "    .colab-df-convert:hover {\n",
              "      background-color: #E2EBFA;\n",
              "      box-shadow: 0px 1px 2px rgba(60, 64, 67, 0.3), 0px 1px 3px 1px rgba(60, 64, 67, 0.15);\n",
              "      fill: #174EA6;\n",
              "    }\n",
              "\n",
              "    [theme=dark] .colab-df-convert {\n",
              "      background-color: #3B4455;\n",
              "      fill: #D2E3FC;\n",
              "    }\n",
              "\n",
              "    [theme=dark] .colab-df-convert:hover {\n",
              "      background-color: #434B5C;\n",
              "      box-shadow: 0px 1px 3px 1px rgba(0, 0, 0, 0.15);\n",
              "      filter: drop-shadow(0px 1px 2px rgba(0, 0, 0, 0.3));\n",
              "      fill: #FFFFFF;\n",
              "    }\n",
              "  </style>\n",
              "\n",
              "      <script>\n",
              "        const buttonEl =\n",
              "          document.querySelector('#df-0eadac8c-2d35-45d2-8e81-3e5273b17bec button.colab-df-convert');\n",
              "        buttonEl.style.display =\n",
              "          google.colab.kernel.accessAllowed ? 'block' : 'none';\n",
              "\n",
              "        async function convertToInteractive(key) {\n",
              "          const element = document.querySelector('#df-0eadac8c-2d35-45d2-8e81-3e5273b17bec');\n",
              "          const dataTable =\n",
              "            await google.colab.kernel.invokeFunction('convertToInteractive',\n",
              "                                                     [key], {});\n",
              "          if (!dataTable) return;\n",
              "\n",
              "          const docLinkHtml = 'Like what you see? Visit the ' +\n",
              "            '<a target=\"_blank\" href=https://colab.research.google.com/notebooks/data_table.ipynb>data table notebook</a>'\n",
              "            + ' to learn more about interactive tables.';\n",
              "          element.innerHTML = '';\n",
              "          dataTable['output_type'] = 'display_data';\n",
              "          await google.colab.output.renderOutput(dataTable, element);\n",
              "          const docLink = document.createElement('div');\n",
              "          docLink.innerHTML = docLinkHtml;\n",
              "          element.appendChild(docLink);\n",
              "        }\n",
              "      </script>\n",
              "    </div>\n",
              "  </div>\n",
              "  "
            ]
          },
          "metadata": {},
          "execution_count": 26
        }
      ],
      "source": [
        "#вывод назначенных кластеров\n",
        "labels = model.labels_.tolist()\n",
        "coords['Cluster'] = labels\n",
        "coords"
      ]
    },
    {
      "cell_type": "code",
      "execution_count": null,
      "metadata": {
        "id": "aQOGHdJfBvj9"
      },
      "outputs": [],
      "source": [
        "#обучение модели и расчет расстояний до центроидов\n",
        "coords = coords.drop('Cluster', axis=1)\n",
        "alldistances = kmeans.fit_transform(coords)"
      ]
    },
    {
      "cell_type": "markdown",
      "source": [
        "Based on the results of clustering, determine the average distance between objects and the centroid assigned to cluster 0.\n",
        "\n",
        "По результатам выполнения кластеризации определить среднее расстояний между объектами и центроидом, отнесенных к кластеру 0."
      ],
      "metadata": {
        "id": "21iD2_g_GOoO"
      }
    },
    {
      "cell_type": "code",
      "execution_count": null,
      "metadata": {
        "colab": {
          "base_uri": "https://localhost:8080/"
        },
        "id": "3ExIbtemBvj9",
        "outputId": "7215b186-b8f5-4f65-e558-aaee3e4a8572"
      },
      "outputs": [
        {
          "output_type": "execute_result",
          "data": {
            "text/plain": [
              "4.219"
            ]
          },
          "metadata": {},
          "execution_count": 28
        }
      ],
      "source": [
        "#вывод расстояний от данных до всех центроидов\n",
        "my_claster = []\n",
        "\n",
        "for i in range(len(alldistances)):\n",
        "  if labels[i] == 0:\n",
        "    my_claster.append(alldistances[i][0].tolist())\n",
        "\n",
        "round(np.mean(my_claster), 3)"
      ]
    }
  ],
  "metadata": {
    "kernelspec": {
      "display_name": "Python 3.6",
      "language": "python",
      "name": "python36"
    },
    "language_info": {
      "codemirror_mode": {
        "name": "ipython",
        "version": 3
      },
      "file_extension": ".py",
      "mimetype": "text/x-python",
      "name": "python",
      "nbconvert_exporter": "python",
      "pygments_lexer": "ipython3",
      "version": "3.6.6"
    },
    "colab": {
      "name": "k-means.ipynb",
      "provenance": [],
      "collapsed_sections": []
    }
  },
  "nbformat": 4,
  "nbformat_minor": 0
}