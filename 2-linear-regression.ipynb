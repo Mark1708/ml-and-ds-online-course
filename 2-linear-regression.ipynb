{
  "cells": [
    {
      "cell_type": "markdown",
      "source": [
        "# Exercise 1\n",
        "Here are the results of observations of the duration of a person's stay in the queue, depending on the number of people in this queue.\n",
        "\n",
        "Перед вами результаты наблюдений длительности нахождения человека в очереди в зависимости от количества людей в этой очереди."
      ],
      "metadata": {
        "id": "hhh1adPGDhZw"
      }
    },
    {
      "cell_type": "code",
      "source": [
        "from sklearn.metrics import r2_score\n",
        "from sklearn.linear_model import LinearRegression\n",
        "import pandas as pd"
      ],
      "metadata": {
        "id": "Rd8tPbF9984X"
      },
      "execution_count": 9,
      "outputs": []
    },
    {
      "cell_type": "code",
      "source": [
        "import os\n",
        "\n",
        "def load_data(data_dir, link):\n",
        "  if not (os.path.exists(data_dir)):\n",
        "    print('========= Downloading data ... =========')\n",
        "    os.system('wget ' + link + ' -O ' + data_dir + '.zip')\n",
        "    os.system('unzip ' + data_dir + '.zip' + ' -d ' + data_dir)\n",
        "    os.system('rm -rf ' + data_dir + '/__MACOSX')\n",
        "    os.system('rm ' + data_dir + '.zip')\n",
        "    print('=========       Success        =========')\n",
        "  else:\n",
        "    print('========= Data is already dowloaded =========')"
      ],
      "metadata": {
        "id": "Eote9rZXK1FS"
      },
      "execution_count": 10,
      "outputs": []
    },
    {
      "cell_type": "code",
      "source": [
        "data_dir1 = '/content/data1'\n",
        "link1 = 'https://github.com/Mark1708/ml-and-ds-online-course/raw/main/data/regression/queue.csv.zip'\n",
        "load_data(data_dir1, link1)"
      ],
      "metadata": {
        "colab": {
          "base_uri": "https://localhost:8080/"
        },
        "id": "fy_z2Q1RJz8b",
        "outputId": "fcda4995-8b2e-4cdc-8255-e006ed914dba"
      },
      "execution_count": 11,
      "outputs": [
        {
          "output_type": "stream",
          "name": "stdout",
          "text": [
            "========= Data is already dowloaded =========\n"
          ]
        }
      ]
    },
    {
      "cell_type": "code",
      "source": [
        "queue = pd.read_csv(data_dir1 + \"/queue.csv\", delimiter=',')"
      ],
      "metadata": {
        "id": "KiRrvlLMDgMd"
      },
      "execution_count": 12,
      "outputs": []
    },
    {
      "cell_type": "markdown",
      "source": [
        "Determine the sample mean X:\n",
        "\n",
        "Определите выборочное среднее X:"
      ],
      "metadata": {
        "id": "J8xNisDr6F0E"
      }
    },
    {
      "cell_type": "code",
      "source": [
        "queue['X'].mean()"
      ],
      "metadata": {
        "colab": {
          "base_uri": "https://localhost:8080/"
        },
        "id": "-jiQA1Gx5Xs_",
        "outputId": "7ba2375e-b29b-4a87-e0d7-3e28c8396b88"
      },
      "execution_count": 13,
      "outputs": [
        {
          "output_type": "execute_result",
          "data": {
            "text/plain": [
              "12.9"
            ]
          },
          "metadata": {},
          "execution_count": 13
        }
      ]
    },
    {
      "cell_type": "markdown",
      "source": [
        "Determine the sample mean Y:\n",
        "\n",
        "Определите выборочное среднее Y:"
      ],
      "metadata": {
        "id": "xKe3MbqR6JxJ"
      }
    },
    {
      "cell_type": "code",
      "source": [
        "queue['Y'].mean()"
      ],
      "metadata": {
        "colab": {
          "base_uri": "https://localhost:8080/"
        },
        "id": "0HdlRfzv6LZk",
        "outputId": "178f214b-3d94-4f24-ba5e-47bbf192e651"
      },
      "execution_count": 14,
      "outputs": [
        {
          "output_type": "execute_result",
          "data": {
            "text/plain": [
              "34.9"
            ]
          },
          "metadata": {},
          "execution_count": 14
        }
      ]
    },
    {
      "cell_type": "code",
      "source": [
        "#отбираем данные для предикторов, удаляя два последних столбца, индекс не включается в данные.\n",
        "X = pd.DataFrame(queue['X'])\n",
        "#указываем столбец отклика\n",
        "y = pd.DataFrame(queue['Y'])\n",
        "#обучение модели\n",
        "reg = LinearRegression().fit(X, y)"
      ],
      "metadata": {
        "id": "7OyHxX266rqZ"
      },
      "execution_count": 15,
      "outputs": []
    },
    {
      "cell_type": "markdown",
      "source": [
        "Find the coefficient $\\theta_1$:\n",
        "\n",
        "Найдите коэффициент $\\theta_1$:"
      ],
      "metadata": {
        "id": "BeAZQdjI7aUg"
      }
    },
    {
      "cell_type": "code",
      "source": [
        "round(reg.coef_[0][0], 3)"
      ],
      "metadata": {
        "colab": {
          "base_uri": "https://localhost:8080/"
        },
        "id": "78XM8dxG7_06",
        "outputId": "93a57b80-5626-4852-9a2f-0569302471d5"
      },
      "execution_count": 16,
      "outputs": [
        {
          "output_type": "execute_result",
          "data": {
            "text/plain": [
              "2.473"
            ]
          },
          "metadata": {},
          "execution_count": 16
        }
      ]
    },
    {
      "cell_type": "markdown",
      "source": [
        "Find the coefficient $\\theta_0$:\n",
        "\n",
        "Найдите коэффициент $\\theta_0$:"
      ],
      "metadata": {
        "id": "P9HqnaVm7WrG"
      }
    },
    {
      "cell_type": "code",
      "source": [
        "round(reg.intercept_[0], 3)"
      ],
      "metadata": {
        "colab": {
          "base_uri": "https://localhost:8080/"
        },
        "id": "Vtrx8TX48ChY",
        "outputId": "e80fcd5b-616c-4d29-f803-2ef274ba875a"
      },
      "execution_count": 17,
      "outputs": [
        {
          "output_type": "execute_result",
          "data": {
            "text/plain": [
              "2.993"
            ]
          },
          "metadata": {},
          "execution_count": 17
        }
      ]
    },
    {
      "cell_type": "markdown",
      "source": [
        "Evaluate the accuracy of the model by calculating $R^2$ statistics:\n",
        "\n",
        "Оцените точность модели, вычислив  $R^2$ статистику:"
      ],
      "metadata": {
        "id": "DjhpBYPi7V6p"
      }
    },
    {
      "cell_type": "code",
      "source": [
        "predict = reg.predict(X)\n",
        "round(r2_score(y, predict), 3)"
      ],
      "metadata": {
        "colab": {
          "base_uri": "https://localhost:8080/"
        },
        "id": "vnv2OCSu8o72",
        "outputId": "6a6dc400-5e6c-44fa-bc81-501213e38ceb"
      },
      "execution_count": 18,
      "outputs": [
        {
          "output_type": "execute_result",
          "data": {
            "text/plain": [
              "0.779"
            ]
          },
          "metadata": {},
          "execution_count": 18
        }
      ]
    },
    {
      "cell_type": "markdown",
      "source": [
        "# Exercise 2\n",
        "The attached file contains data collected by voting for the best (or at least the most popular) Halloween candies. Train a linear multivariate regression model. The following fields are used as predictors: chocolate, fruit, caramel, peanutyalmondy, nougat, crispedricewafer, hard, bar, pluribus, sugarpercent, pricepercent, response — winpercent.\n",
        "\n",
        "Use the data from the file as a training dataset, with the exception of the following candies: Dum Dum, Lifesavers big ring gummies. Train the model.\n",
        "\n",
        "В прилагаемом файле представлены данные, собранные путем голосования за самые лучшие (или, по крайней мере, самые популярные) конфеты Хэллоуина. Обучите модель линейной многомерной регрессии. В качестве предикторов выступают поля: chocolate, fruity, caramel, peanutyalmondy, nougat, crispedricewafer, hard, bar, pluribus, sugarpercent, pricepercent, отклик — winpercent.\n",
        "\n",
        "В качестве тренировочного набора данных используйте данные из файла, за иключением следующих конфет: Dum Dums, Lifesavers big ring gummies. Обучите модель."
      ],
      "metadata": {
        "id": "TgMpthmB_Uwn"
      }
    },
    {
      "cell_type": "code",
      "source": [
        "data_dir2 = '/content/data2'\n",
        "link2 = 'https://github.com/Mark1708/ml-and-ds-online-course/raw/main/data/regression/candy-data.csv.zip'\n",
        "load_data(data_dir2, link2)"
      ],
      "metadata": {
        "colab": {
          "base_uri": "https://localhost:8080/"
        },
        "id": "Pti44wHwLwdG",
        "outputId": "5dc62729-b9b2-47ea-a7fb-1d6251fab78d"
      },
      "execution_count": 19,
      "outputs": [
        {
          "output_type": "stream",
          "name": "stdout",
          "text": [
            "========= Downloading data ... =========\n",
            "=========       Success        =========\n"
          ]
        }
      ]
    },
    {
      "cell_type": "code",
      "source": [
        "sweets = pd.read_csv(data_dir2 + \"/candy-data.csv\", delimiter=',', index_col='competitorname')"
      ],
      "metadata": {
        "id": "apFG8JNl_hw7"
      },
      "execution_count": 20,
      "outputs": []
    },
    {
      "cell_type": "code",
      "source": [
        "#обучение модели будем проводить на данных, за исключением некоторых конфет\n",
        "train_data = sweets.drop(['Dum Dums', 'Lifesavers big ring gummies'])"
      ],
      "metadata": {
        "id": "OqDH9Ul7AZuO"
      },
      "execution_count": 21,
      "outputs": []
    },
    {
      "cell_type": "code",
      "source": [
        "#отбираем данные для предикторов, удаляя два последних столбца, индекс не включается в данные.\n",
        "X = pd.DataFrame(train_data.drop(['winpercent', 'Y'], axis=1))\n",
        "#указываем столбец отклика\n",
        "y = pd.DataFrame(train_data['winpercent'])\n",
        "#обучение модели\n",
        "reg = LinearRegression().fit(X, y)"
      ],
      "metadata": {
        "id": "0_7-ZwwRAqUa"
      },
      "execution_count": 22,
      "outputs": []
    },
    {
      "cell_type": "markdown",
      "source": [
        "Enter the predicted winpercent value for the Dum Dums candy:\n",
        "\n",
        "Введите предсказанное значение winpercent для конфеты Dum Dums:"
      ],
      "metadata": {
        "id": "alm9IGF7CgVZ"
      }
    },
    {
      "cell_type": "code",
      "source": [
        "#предсказание для конфет из таблицы\n",
        "\n",
        "#выбираем строку из таблицы\n",
        "dum_dums = sweets.loc['Dum Dums',:].to_frame().T\n",
        "\n",
        "#отбираем данные для предикторов и выполняем предсказание с помощью модели\n",
        "round(reg.predict(dum_dums.drop(['winpercent', 'Y'], axis=1))[0][0], 3)"
      ],
      "metadata": {
        "colab": {
          "base_uri": "https://localhost:8080/"
        },
        "id": "qHhSIIU2A6HW",
        "outputId": "ad7596b2-01e0-474f-9921-e0f4cc8e8c7d"
      },
      "execution_count": 23,
      "outputs": [
        {
          "output_type": "execute_result",
          "data": {
            "text/plain": [
              "48.84"
            ]
          },
          "metadata": {},
          "execution_count": 23
        }
      ]
    },
    {
      "cell_type": "markdown",
      "source": [
        "Enter the predicted winpercent value for the Lifesavers big ring gummies candy:\n",
        "\n",
        "Введите предсказанное значение winpercent для конфеты Lifesavers big ring gummies:"
      ],
      "metadata": {
        "id": "klY8dHgTCcRn"
      }
    },
    {
      "cell_type": "code",
      "source": [
        "#предсказание для конфет из таблицы\n",
        "\n",
        "#выбираем строку из таблицы\n",
        "gummies = sweets.loc['Lifesavers big ring gummies',:].to_frame().T\n",
        "\n",
        "#отбираем данные для предикторов и выполняем предсказание с помощью модели\n",
        "round(reg.predict(gummies.drop(['winpercent', 'Y'], axis=1))[0][0], 3)"
      ],
      "metadata": {
        "colab": {
          "base_uri": "https://localhost:8080/"
        },
        "id": "zJvius0nBIGw",
        "outputId": "d3e71045-3c44-44c4-d312-fe0dfc5c451e"
      },
      "execution_count": 24,
      "outputs": [
        {
          "output_type": "execute_result",
          "data": {
            "text/plain": [
              "47.579"
            ]
          },
          "metadata": {},
          "execution_count": 24
        }
      ]
    },
    {
      "cell_type": "markdown",
      "source": [
        "Enter the predicted winpercent value for the candy with the parameters: [0, 0, 1, 1, 0, 0, 0, 0, 0, 0.339, 0.564]\n",
        "\n",
        "Введите предсказанное значение winpercent для конфеты с параметрами: [0, 0, 1, 1, 0, 0, 0, 0, 0, 0.339, 0.564]"
      ],
      "metadata": {
        "id": "1Ffehe8-CXye"
      }
    },
    {
      "cell_type": "code",
      "source": [
        "#предсказание для конфет введеных вручную\n",
        "round(reg.predict([[0, 0, 1, 1, 0, 0, 0, 0, 0, 0.339, 0.564]])[0][0], 3)"
      ],
      "metadata": {
        "colab": {
          "base_uri": "https://localhost:8080/"
        },
        "id": "e6wucMjICFY8",
        "outputId": "cf890fb3-cf53-4f24-cf0b-7585316cc40c"
      },
      "execution_count": 25,
      "outputs": [
        {
          "output_type": "stream",
          "name": "stderr",
          "text": [
            "/usr/local/lib/python3.7/dist-packages/sklearn/base.py:451: UserWarning: X does not have valid feature names, but LinearRegression was fitted with feature names\n",
            "  \"X does not have valid feature names, but\"\n"
          ]
        },
        {
          "output_type": "execute_result",
          "data": {
            "text/plain": [
              "40.811"
            ]
          },
          "metadata": {},
          "execution_count": 25
        }
      ]
    }
  ],
  "metadata": {
    "kernelspec": {
      "display_name": "Python 3.6",
      "language": "python",
      "name": "python36"
    },
    "language_info": {
      "codemirror_mode": {
        "name": "ipython",
        "version": 3
      },
      "file_extension": ".py",
      "mimetype": "text/x-python",
      "name": "python",
      "nbconvert_exporter": "python",
      "pygments_lexer": "ipython3",
      "version": "3.6.6"
    },
    "colab": {
      "name": "regression.ipynb",
      "provenance": [],
      "collapsed_sections": []
    }
  },
  "nbformat": 4,
  "nbformat_minor": 0
}