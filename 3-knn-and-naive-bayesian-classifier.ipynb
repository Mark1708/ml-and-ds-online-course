{
  "cells": [
    {
      "cell_type": "markdown",
      "source": [
        "# Task 1\n",
        "A table of some synthetic data is available to you, on the basis of which it is necessary to classify a new object using the k-nearest neighbors method.\n",
        "\n",
        "Вам доступна таблица некоторых синтетических данных, на основании которых необходимо выполнить классификацию нового объекта, с помощью метода k-ближайших соседей."
      ],
      "metadata": {
        "id": "jsbswuPGEhpu"
      }
    },
    {
      "cell_type": "code",
      "source": [
        "import pandas as pd\n",
        "import numpy as np\n",
        "from sklearn.neighbors import KNeighborsClassifier"
      ],
      "metadata": {
        "id": "YUAUOUG8N8IW"
      },
      "execution_count": null,
      "outputs": []
    },
    {
      "cell_type": "code",
      "source": [
        "import os\n",
        "\n",
        "def load_data(data_dir, link):\n",
        "  if not (os.path.exists(data_dir)):\n",
        "    print('========= Downloading data ... =========')\n",
        "    os.system('wget ' + link + ' -O ' + data_dir + '.zip')\n",
        "    os.system('unzip ' + data_dir + '.zip' + ' -d ' + data_dir)\n",
        "    os.system('rm -rf ' + data_dir + '/__MACOSX')\n",
        "    os.system('rm ' + data_dir + '.zip')\n",
        "    print('=========       Success        =========')\n",
        "  else:\n",
        "    print('========= Data is already dowloaded =========')"
      ],
      "metadata": {
        "id": "pWPR8SfRN-xq"
      },
      "execution_count": null,
      "outputs": []
    },
    {
      "cell_type": "code",
      "source": [
        "data_dir1 = '/content/data1'\n",
        "link1 = 'https://github.com/Mark1708/ml-and-ds-online-course/raw/main/data/knn-and-naive-bayesian-classifier/syntetic_data.csv.zip'\n",
        "load_data(data_dir1, link1)"
      ],
      "metadata": {
        "colab": {
          "base_uri": "https://localhost:8080/"
        },
        "id": "A0mlHg8uOBMz",
        "outputId": "df61adc2-db29-4657-c94a-cd7b17fa3764"
      },
      "execution_count": null,
      "outputs": [
        {
          "output_type": "stream",
          "name": "stdout",
          "text": [
            "========= Downloading data ... =========\n",
            "=========       Success        =========\n"
          ]
        }
      ]
    },
    {
      "cell_type": "code",
      "source": [
        "nn = pd.read_csv(data_dir1 + '/syntetic_data.csv', delimiter=',', index_col='id')"
      ],
      "metadata": {
        "id": "gpZ0k0bJE8hy"
      },
      "execution_count": null,
      "outputs": []
    },
    {
      "cell_type": "code",
      "source": [
        "new_object = np.array([74, 92]).reshape(1, 2)\n",
        "k = 3"
      ],
      "metadata": {
        "id": "sHFXzinWHSrG"
      },
      "execution_count": null,
      "outputs": []
    },
    {
      "cell_type": "code",
      "source": [
        "xy = pd.DataFrame(nn.drop(['Class'], axis=1))\n",
        "Class = pd.DataFrame(nn['Class'])"
      ],
      "metadata": {
        "id": "hvvtIcoFIGPI"
      },
      "execution_count": null,
      "outputs": []
    },
    {
      "cell_type": "code",
      "source": [
        "# При p=1 это эквивалентно использованию manhattan_distance\n",
        "md = KNeighborsClassifier(n_neighbors=3, p=1)\n",
        "md.fit(xy, Class)\n",
        "\n",
        "# При p=2 это эквивалентно использованию euclidean_distance\n",
        "ed = KNeighborsClassifier(n_neighbors=3, p=2)\n",
        "ed.fit(xy, Class)"
      ],
      "metadata": {
        "colab": {
          "base_uri": "https://localhost:8080/"
        },
        "id": "NeEGi5nvINII",
        "outputId": "909bf65d-df59-4d1c-acb8-5a1aa875980c"
      },
      "execution_count": null,
      "outputs": [
        {
          "output_type": "stream",
          "name": "stderr",
          "text": [
            "/usr/local/lib/python3.7/dist-packages/sklearn/neighbors/_classification.py:198: DataConversionWarning: A column-vector y was passed when a 1d array was expected. Please change the shape of y to (n_samples,), for example using ravel().\n",
            "  return self._fit(X, y)\n",
            "/usr/local/lib/python3.7/dist-packages/sklearn/neighbors/_classification.py:198: DataConversionWarning: A column-vector y was passed when a 1d array was expected. Please change the shape of y to (n_samples,), for example using ravel().\n",
            "  return self._fit(X, y)\n"
          ]
        },
        {
          "output_type": "execute_result",
          "data": {
            "text/plain": [
              "KNeighborsClassifier(n_neighbors=3)"
            ]
          },
          "metadata": {},
          "execution_count": 7
        }
      ]
    },
    {
      "cell_type": "markdown",
      "source": [
        "Enter the distance from the new object with coordinates (74, 92) to the nearest neighbor using the Euclidean metric.\n",
        "\n",
        "Введите расстояние от нового объекта с координатами (74, 92) до ближайшего соседа, используя евклидову метрику."
      ],
      "metadata": {
        "id": "uW4HucauFiwj"
      }
    },
    {
      "cell_type": "code",
      "source": [
        "round(ed.kneighbors(new_object)[0][0][0], 3)"
      ],
      "metadata": {
        "colab": {
          "base_uri": "https://localhost:8080/"
        },
        "id": "zxJhTRQ4GHUj",
        "outputId": "b2fd87a5-994e-4edf-f6b6-cfa3c5a44344"
      },
      "execution_count": null,
      "outputs": [
        {
          "output_type": "stream",
          "name": "stderr",
          "text": [
            "/usr/local/lib/python3.7/dist-packages/sklearn/base.py:451: UserWarning: X does not have valid feature names, but KNeighborsClassifier was fitted with feature names\n",
            "  \"X does not have valid feature names, but\"\n"
          ]
        },
        {
          "output_type": "execute_result",
          "data": {
            "text/plain": [
              "8.062"
            ]
          },
          "metadata": {},
          "execution_count": 8
        }
      ]
    },
    {
      "cell_type": "markdown",
      "source": [
        "Enter the IDs of the three closest points to (74, 92) for the Euclidean metric.\n",
        "\n",
        "Введите идентификатры трех ближайших точек к (74, 92) для евклидовой метрики."
      ],
      "metadata": {
        "id": "tKGAa1X1Fn3h"
      }
    },
    {
      "cell_type": "code",
      "source": [
        "[i + 1 for i in ed.kneighbors(new_object)[1][0]]"
      ],
      "metadata": {
        "colab": {
          "base_uri": "https://localhost:8080/"
        },
        "id": "RkuJ8UPSGHyz",
        "outputId": "ac3ec28e-1ef8-4992-c594-f99d72123bd9"
      },
      "execution_count": null,
      "outputs": [
        {
          "output_type": "stream",
          "name": "stderr",
          "text": [
            "/usr/local/lib/python3.7/dist-packages/sklearn/base.py:451: UserWarning: X does not have valid feature names, but KNeighborsClassifier was fitted with feature names\n",
            "  \"X does not have valid feature names, but\"\n"
          ]
        },
        {
          "output_type": "execute_result",
          "data": {
            "text/plain": [
              "[9, 10, 7]"
            ]
          },
          "metadata": {},
          "execution_count": 9
        }
      ]
    },
    {
      "cell_type": "markdown",
      "source": [
        "Enter a class for a new object with coordinates (74, 92) at k = 3 and a Euclidean metric.\n",
        "\n",
        "Введите класс для нового объекта с координатами (74, 92) при k = 3 и евклидовой метрике."
      ],
      "metadata": {
        "id": "geMtSH_DFvb0"
      }
    },
    {
      "cell_type": "code",
      "source": [
        "ed.predict(new_object)[0]"
      ],
      "metadata": {
        "colab": {
          "base_uri": "https://localhost:8080/"
        },
        "id": "xGkbl2udGILG",
        "outputId": "0ff96c96-3fe1-42a2-881d-c4ba4a9acbab"
      },
      "execution_count": null,
      "outputs": [
        {
          "output_type": "stream",
          "name": "stderr",
          "text": [
            "/usr/local/lib/python3.7/dist-packages/sklearn/base.py:451: UserWarning: X does not have valid feature names, but KNeighborsClassifier was fitted with feature names\n",
            "  \"X does not have valid feature names, but\"\n"
          ]
        },
        {
          "output_type": "execute_result",
          "data": {
            "text/plain": [
              "1"
            ]
          },
          "metadata": {},
          "execution_count": 10
        }
      ]
    },
    {
      "cell_type": "markdown",
      "source": [
        "Enter the distance from the new object with coordinates (74, 92) to the nearest neighbor using the metric of city blocks (Manhattan distance).\n",
        "\n",
        "Введите расстояние от нового объекта с координатами (74, 92) до ближайшего соседа, используя метрику городских кварталов (Манхеттенское расстояние)."
      ],
      "metadata": {
        "id": "cRvxOTP_F5Ne"
      }
    },
    {
      "cell_type": "code",
      "source": [
        "round(md.kneighbors(new_object)[0][0][0], 3)"
      ],
      "metadata": {
        "colab": {
          "base_uri": "https://localhost:8080/"
        },
        "id": "uZbwokvOGI7w",
        "outputId": "31835dc3-98aa-4063-c49b-485e312a55c4"
      },
      "execution_count": null,
      "outputs": [
        {
          "output_type": "stream",
          "name": "stderr",
          "text": [
            "/usr/local/lib/python3.7/dist-packages/sklearn/base.py:451: UserWarning: X does not have valid feature names, but KNeighborsClassifier was fitted with feature names\n",
            "  \"X does not have valid feature names, but\"\n"
          ]
        },
        {
          "output_type": "execute_result",
          "data": {
            "text/plain": [
              "11.0"
            ]
          },
          "metadata": {},
          "execution_count": 11
        }
      ]
    },
    {
      "cell_type": "markdown",
      "source": [
        "Enter the IDs of the three closest points to (74, 92) for the city block metric.\n",
        "\n",
        "Введите идентификатры трех ближайших точек к (74, 92) для метрики городских кварталов."
      ],
      "metadata": {
        "id": "5DIY-KIrF-D2"
      }
    },
    {
      "cell_type": "code",
      "source": [
        "[i + 1 for i in md.kneighbors(new_object)[1][0]]"
      ],
      "metadata": {
        "colab": {
          "base_uri": "https://localhost:8080/"
        },
        "id": "m5fsXX4oGJh6",
        "outputId": "58f9c242-349a-491b-bf66-fda8552e600c"
      },
      "execution_count": null,
      "outputs": [
        {
          "output_type": "stream",
          "name": "stderr",
          "text": [
            "/usr/local/lib/python3.7/dist-packages/sklearn/base.py:451: UserWarning: X does not have valid feature names, but KNeighborsClassifier was fitted with feature names\n",
            "  \"X does not have valid feature names, but\"\n"
          ]
        },
        {
          "output_type": "execute_result",
          "data": {
            "text/plain": [
              "[9, 10, 7]"
            ]
          },
          "metadata": {},
          "execution_count": 12
        }
      ]
    },
    {
      "cell_type": "markdown",
      "source": [
        "Enter a class for a new object with coordinates (74, 92) at k = 3 and metrics of city blocks."
      ],
      "metadata": {
        "id": "TLesAULDGBK-"
      }
    },
    {
      "cell_type": "code",
      "source": [
        "md.predict(new_object)[0]"
      ],
      "metadata": {
        "colab": {
          "base_uri": "https://localhost:8080/"
        },
        "id": "0ltXSFlWGJ27",
        "outputId": "917527f7-f063-4a8e-d32c-d847b8a69c6a"
      },
      "execution_count": null,
      "outputs": [
        {
          "output_type": "stream",
          "name": "stderr",
          "text": [
            "/usr/local/lib/python3.7/dist-packages/sklearn/base.py:451: UserWarning: X does not have valid feature names, but KNeighborsClassifier was fitted with feature names\n",
            "  \"X does not have valid feature names, but\"\n"
          ]
        },
        {
          "output_type": "execute_result",
          "data": {
            "text/plain": [
              "1"
            ]
          },
          "metadata": {},
          "execution_count": 13
        }
      ]
    },
    {
      "cell_type": "markdown",
      "source": [
        "# Task 2\n",
        "The table contains data on the classification of emails for \"spam\"/\"not spam\" and the total number of words included in these groups:\n",
        "\n",
        "Таблица содержит данные о классификации писем на «спам»/«не спам» и общее количество слов, входящих в эти группы:![Снимок экрана 2022-04-08 в 11.18.38.png](data:image/png;base64,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)\n",
        "\n",
        "The second table shows data on unique words and the number of their occurrences in these groups:\n",
        "\n",
        "Во второй таблице представлены данные, по уникальным словам, и числу их вхождений в указанные группы:\n",
        "\n",
        "![Снимок экрана 2022-04-08 в 11.19.01.png](data:image/png;base64,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)\n",
        "\n",
        "Your task is to build a model of a naive Bayesian classifier and determine the class to which the letter containing the text will be assigned:\n",
        "\n",
        "Ваша задача построить модель наивного байесовского классификатора и определить класс, к которому будет отнесено письмо, содержащее текст:\n",
        "\n",
        "## Gift Purchase Offer Access Money Million Investment\n"
      ],
      "metadata": {
        "id": "cohK84m1QFt-"
      }
    },
    {
      "cell_type": "code",
      "source": [
        "import math"
      ],
      "metadata": {
        "id": "IZpw5g7iXhIC"
      },
      "execution_count": null,
      "outputs": []
    },
    {
      "cell_type": "code",
      "source": [
        "data_dir2 = '/content/data2'\n",
        "link2 = 'https://github.com/Mark1708/ml-and-ds-online-course/raw/main/data/knn-and-naive-bayesian-classifier/mail.zip'\n",
        "load_data(data_dir2, link2)"
      ],
      "metadata": {
        "colab": {
          "base_uri": "https://localhost:8080/"
        },
        "id": "pWKqAfXGOKRW",
        "outputId": "57e1d9a7-996e-4dff-8ef5-90362381a8d6"
      },
      "execution_count": null,
      "outputs": [
        {
          "output_type": "stream",
          "name": "stdout",
          "text": [
            "========= Downloading data ... =========\n",
            "=========       Success        =========\n"
          ]
        }
      ]
    },
    {
      "cell_type": "code",
      "source": [
        "classifications = pd.read_csv(data_dir2 + '/mail_classification_data.csv', delimiter=',', index_col='объект')\n",
        "words = pd.read_csv(data_dir2 + '/mail_word_class_data.csv', delimiter=',', index_col='Слово')\n",
        "text_arr = 'Gift Purchase Offer Access Money Million Investment'.split(' ')"
      ],
      "metadata": {
        "id": "auGGLiKrQmRT"
      },
      "execution_count": null,
      "outputs": []
    },
    {
      "cell_type": "code",
      "source": [
        "words['F_spam'], words['F_not_spam'] = None, None"
      ],
      "metadata": {
        "id": "pZzc63hpWaJe"
      },
      "execution_count": null,
      "outputs": []
    },
    {
      "cell_type": "markdown",
      "source": [
        "Determine the probability that the email is spam based on the training data set.\n",
        "\n",
        "Определите вероятность того, что письмо является спамом, исходя из тренировочного набора данных."
      ],
      "metadata": {
        "id": "dG9vtuQDQtMp"
      }
    },
    {
      "cell_type": "code",
      "source": [
        "emails = classifications.loc['Писем'].to_frame().T\n",
        "round(float(emails['спам'] / (emails['спам'] + emails['не спам'])), 3)"
      ],
      "metadata": {
        "colab": {
          "base_uri": "https://localhost:8080/"
        },
        "id": "cRk7ZL-PWJ4V",
        "outputId": "52635048-f4f0-4668-d4bc-1c39caf01102"
      },
      "execution_count": null,
      "outputs": [
        {
          "output_type": "execute_result",
          "data": {
            "text/plain": [
              "0.538"
            ]
          },
          "metadata": {},
          "execution_count": 19
        }
      ]
    },
    {
      "cell_type": "code",
      "source": [
        "def P_x(a, class_name, word, M):\n",
        "  return math.log(float((a + words[class_name][word]) / (a * M + words[class_name].sum())))"
      ],
      "metadata": {
        "id": "fQSgHEDtNBOj"
      },
      "execution_count": null,
      "outputs": []
    },
    {
      "cell_type": "code",
      "source": [
        "quantity = len(words.index)\n",
        "a = 1\n",
        "\n",
        "for test_word in text_arr:\n",
        "  if test_word not in words.index:\n",
        "    words = words.append(pd.Series(data={'спам': 0, 'не спам': 0, 'F_spam': None, 'F_not_spam': None}, name=test_word), ignore_index=False)\n",
        "  words['F_spam'][test_word] = P_x(a, 'спам', test_word, quantity)\n",
        "  words['F_not_spam'][test_word] = P_x(a, 'не спам', test_word, quantity)"
      ],
      "metadata": {
        "colab": {
          "base_uri": "https://localhost:8080/"
        },
        "id": "DjpN059LCl7V",
        "outputId": "dad6ca62-aacc-421d-917a-2e7ee3b80e67"
      },
      "execution_count": null,
      "outputs": [
        {
          "output_type": "stream",
          "name": "stderr",
          "text": [
            "/usr/local/lib/python3.7/dist-packages/ipykernel_launcher.py:7: SettingWithCopyWarning: \n",
            "A value is trying to be set on a copy of a slice from a DataFrame\n",
            "\n",
            "See the caveats in the documentation: https://pandas.pydata.org/pandas-docs/stable/user_guide/indexing.html#returning-a-view-versus-a-copy\n",
            "  import sys\n",
            "/usr/local/lib/python3.7/dist-packages/ipykernel_launcher.py:8: SettingWithCopyWarning: \n",
            "A value is trying to be set on a copy of a slice from a DataFrame\n",
            "\n",
            "See the caveats in the documentation: https://pandas.pydata.org/pandas-docs/stable/user_guide/indexing.html#returning-a-view-versus-a-copy\n",
            "  \n"
          ]
        }
      ]
    },
    {
      "cell_type": "markdown",
      "source": [
        "Calculate F(\"spam\"):\n",
        "\n",
        "Вычислите F(«спам»):"
      ],
      "metadata": {
        "id": "SWvkXaYBQtld"
      }
    },
    {
      "cell_type": "code",
      "source": [
        "prob_spam = float(words['F_spam'].sum())\n",
        "print(prob_spam + math.log(14/26))"
      ],
      "metadata": {
        "id": "R7LCGmACQcb9",
        "colab": {
          "base_uri": "https://localhost:8080/"
        },
        "outputId": "74e430ec-dd27-4f6b-9b89-f14940d0250b"
      },
      "execution_count": null,
      "outputs": [
        {
          "output_type": "stream",
          "name": "stdout",
          "text": [
            "-25.001656511565074\n"
          ]
        }
      ]
    },
    {
      "cell_type": "markdown",
      "source": [
        "Calculate F(\"not spam\"):\n",
        "\n",
        "Вычислите F(«неспам»):"
      ],
      "metadata": {
        "id": "kxUXrMeQQuUj"
      }
    },
    {
      "cell_type": "code",
      "source": [
        "prob_not_spam = float(words['F_not_spam'].sum())\n",
        "print(prob_not_spam  + math.log(12/26))"
      ],
      "metadata": {
        "colab": {
          "base_uri": "https://localhost:8080/"
        },
        "id": "wHpdPLp4JPBV",
        "outputId": "edf706c5-f334-40b8-a8e3-82073ba358e6"
      },
      "execution_count": null,
      "outputs": [
        {
          "output_type": "stream",
          "name": "stdout",
          "text": [
            "-21.209987321462286\n"
          ]
        }
      ]
    },
    {
      "cell_type": "markdown",
      "source": [
        "Calculate the probability P (Class = \"spam\" | Letter) that the Gift Purchase Offer Access Money Million Investment letter is spam.\n",
        "\n",
        "Вычислите вероятность P (Класс = «спам» | Письмо), что письмо Gift Purchase Offer Access Money Million Investment является спамом."
      ],
      "metadata": {
        "id": "WW7yFvVRQvzC"
      }
    },
    {
      "cell_type": "code",
      "source": [
        "spam_div_all = math.log(classifications['спам']['Писем']/(classifications['не спам']['Писем'] + classifications['спам']['Писем']))\n",
        "not_spam_div_all = math.log(classifications['не спам']['Писем']/(classifications['не спам']['Писем'] + classifications['спам']['Писем']))\n",
        "round(1 / (1 + math.exp((prob_not_spam  + not_spam_div_all) - (prob_spam + spam_div_all))), 4)"
      ],
      "metadata": {
        "colab": {
          "base_uri": "https://localhost:8080/"
        },
        "id": "2z5TMC3tb0TS",
        "outputId": "6f538140-e5bd-4bd5-9e61-32b9fea020ba"
      },
      "execution_count": null,
      "outputs": [
        {
          "output_type": "execute_result",
          "data": {
            "text/plain": [
              "0.0221"
            ]
          },
          "metadata": {},
          "execution_count": 24
        }
      ]
    }
  ],
  "metadata": {
    "kernelspec": {
      "display_name": "Python 3.6",
      "language": "python",
      "name": "python36"
    },
    "language_info": {
      "codemirror_mode": {
        "name": "ipython",
        "version": 3
      },
      "file_extension": ".py",
      "mimetype": "text/x-python",
      "name": "python",
      "nbconvert_exporter": "python",
      "pygments_lexer": "ipython3",
      "version": "3.6.6"
    },
    "colab": {
      "name": "3-knn-and-naive-bayesian-classifier.ipynb",
      "provenance": []
    }
  },
  "nbformat": 4,
  "nbformat_minor": 0
}